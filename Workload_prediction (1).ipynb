{
  "nbformat": 4,
  "nbformat_minor": 0,
  "metadata": {
    "colab": {
      "name": "Workload prediction.ipynb",
      "provenance": [],
      "collapsed_sections": [
        "uIErVcKpHUSN",
        "CtEQ_8ntg5qt",
        "_afAST-Toz-P"
      ]
    },
    "kernelspec": {
      "display_name": "Python 3",
      "name": "python3"
    }
  },
  "cells": [
    {
      "cell_type": "markdown",
      "metadata": {
        "id": "6SrQNeC_AhDP"
      },
      "source": [
        "В этом проекте попробуем узнать как количество активных клиентов влияет на нагрузку отдела Support и предсказать количество обращений при увеличении числа активных клиентов до 30 000 в месяц."
      ]
    },
    {
      "cell_type": "code",
      "metadata": {
        "id": "z0LoKYB-_-Vg"
      },
      "source": [
        "import warnings\n",
        "warnings.simplefilter(action='ignore', category=FutureWarning)\n",
        "import pandas as pd\n",
        "import seaborn as sns\n",
        "from pandas import Series\n",
        "pd.options.mode.chained_assignment = None\n",
        "import plotly.express as px\n",
        "from scipy import stats as st\n",
        "import numpy as np\n",
        "import matplotlib.pyplot as plt\n",
        "from sklearn.linear_model import LinearRegression\n",
        "from sklearn.metrics import mean_squared_error as mse\n",
        "import pprint\n",
        "from sklearn.tree import DecisionTreeRegressor\n",
        "from sklearn.metrics import mean_absolute_error as mae\n",
        "from sklearn.model_selection import train_test_split\n",
        "from sklearn.ensemble import RandomForestRegressor\n",
        "from sklearn.model_selection import GridSearchCV"
      ],
      "execution_count": 69,
      "outputs": []
    },
    {
      "cell_type": "code",
      "metadata": {
        "id": "T-e2rvNkBQwU"
      },
      "source": [
        "intercom2020 = pd.read_csv('/content/inbox-data-export.csv') #выгрузка по диалогам за 2020\n",
        "transactions = pd.read_csv('/content/transactions.csv') #активные клиенты и их транзакции с момента запуска карточной программы"
      ],
      "execution_count": 2,
      "outputs": []
    },
    {
      "cell_type": "code",
      "metadata": {
        "id": "yoxULsGDCIWT"
      },
      "source": [
        "intercom2020['Created at'] = pd.to_datetime(intercom2020['Created at'])\n",
        "transactions['created_at'] = pd.to_datetime(transactions['created_at'])"
      ],
      "execution_count": 3,
      "outputs": []
    },
    {
      "cell_type": "code",
      "metadata": {
        "id": "Etg2LaehCjDr"
      },
      "source": [
        "intercom_from_august = intercom2020[(intercom2020['Created at'] > \n",
        "                                     '2020-08-01T00:50:03.286012') & \n",
        "                                    (intercom2020['Created at'] < \n",
        "                                     '2021-01-01T00:50:03.286012')]\n",
        "transactions_2020 = transactions[transactions['created_at'] < '2021-01-01']"
      ],
      "execution_count": 4,
      "outputs": []
    },
    {
      "cell_type": "markdown",
      "metadata": {
        "id": "uIErVcKpHUSN"
      },
      "source": [
        "## Найдем процент обращений от активных клиентов среди всех обращений по месяцам и построим модель для предсказания количества активных клиентов, которые обратятся в саппорт."
      ]
    },
    {
      "cell_type": "code",
      "metadata": {
        "id": "reljokaQCq0I"
      },
      "source": [
        "intercom_from_august['If_user'] = intercom_from_august['User ID'].str.isdigit()\n",
        "intercom_users = intercom_from_august[intercom_from_august['If_user'] == True]\n",
        "transactions_2020 = transactions_2020.reset_index(drop=True)\n",
        "transactions_2020.columns = ['User ID', 'created_at', 'reference_type']\n",
        "intercom_users['User ID'] = intercom_users['User ID'].astype(int)\n",
        "transactions_2020['User ID'] = transactions_2020['User ID'].astype(int)"
      ],
      "execution_count": 5,
      "outputs": []
    },
    {
      "cell_type": "code",
      "metadata": {
        "id": "vgDEitFnyjT8"
      },
      "source": [
        "#найдем уникальнык User ID активных клиентов и клиентов обратившихся в поддержку за период\n",
        "def create_sets_of_users(active_by_period, intercom_by_period, column_name, unique_periods):\n",
        "  d_interc = {} #клиенты обратившиеся в поддержку (только юзеры)\n",
        "  d_trans = {} #активные клиенты\n",
        "  for i in range(min(unique_periods), max(unique_periods) + 1):\n",
        "    temp = intercom_by_period.loc[i,].reset_index()\n",
        "    temp2 = active_by_period.loc[i,].reset_index()\n",
        "    d_interc[i] = set(temp['User ID'])\n",
        "    d_trans[i] = set(temp2['User ID'])\n",
        "  return d_interc, d_trans"
      ],
      "execution_count": 6,
      "outputs": []
    },
    {
      "cell_type": "code",
      "metadata": {
        "id": "n4hbeLv21H84"
      },
      "source": [
        "#найдем % активных клиентов из всех юзеров обратившихся в саппорт\n",
        "def calculate_percent_of_active(d_interc, d_trans, unique_periods):\n",
        "  percent_of_active_by_period = {} \n",
        "  percent_of_ctive_contacted_support = {}\n",
        "  for i in range(min(unique_periods), max(unique_periods) + 1):\n",
        "    intersection = d_interc[i].intersection(d_trans[i]) #активные клинты обратившиеся в саппорт\n",
        "    percent_of_active_by_period[i] = round(len(intersection)/len(d_interc[i]) * 100) #% активных из всех обратившихся\n",
        "    percent_of_ctive_contacted_support[i] = round(len(intersection)/len(d_trans[i]) * 100) #% активных, обратившихся в саппорт из всех активных\n",
        "  return percent_of_active_by_period, percent_of_ctive_contacted_support"
      ],
      "execution_count": 7,
      "outputs": []
    },
    {
      "cell_type": "code",
      "metadata": {
        "id": "DnkWvPaA2BFI"
      },
      "source": [
        "def plot_bar(percent_of_active_by_period):\n",
        "  plt.figure(figsize=(10,6))\n",
        "  plt.bar(range(len(percent_of_active_by_period)), list(percent_of_active_by_period.values()), align='center')\n",
        "  plt.xticks(range(len(percent_of_active_by_period)), list(percent_of_active_by_period.keys()))\n",
        "  plt.title('% активных клиентов, обратившихся в поддержку')\n",
        "  plt.xlabel('Интервал')\n",
        "  plt.ylabel('%')\n",
        "\n",
        "  plt.show()"
      ],
      "execution_count": 8,
      "outputs": []
    },
    {
      "cell_type": "code",
      "metadata": {
        "id": "x0qhJP7e2k5z"
      },
      "source": [
        "#тут количество активных клиентов обратившихся в саппорт за период\n",
        "def create_dict_for_lin_r(d_interc, d_trans, unique_periods):\n",
        "  d_intersec_period = {} \n",
        "  for i in range(min(unique_periods), max(unique_periods) + 1):\n",
        "    intersection = d_interc[i].intersection(d_trans[i])\n",
        "    d_intersec_period[len(d_trans[i])] = len(intersection)\n",
        "  return d_intersec_period"
      ],
      "execution_count": 9,
      "outputs": []
    },
    {
      "cell_type": "code",
      "metadata": {
        "id": "frwXjGhz4EUQ"
      },
      "source": [
        "# посмторим модель линейной регрессии\n",
        "def perform_linear_regression(X, Y, xlabel, ylabel):\n",
        "  X = X.reshape(-1, 1)\n",
        "  Y = Y.reshape(-1, 1)\n",
        "  #2: Split on train and test\n",
        "  X_train, X_test, Y_train, Y_test = train_test_split(X, Y, test_size = 0.3, random_state = 124)\n",
        "  #3. Create empty model\n",
        "  linear_regressor = LinearRegression()  # create an instance of the class\n",
        "  #4. Fit the model\n",
        "  linear_regressor.fit(X_train, Y_train)  # perform linear regression\n",
        "  #5. Predict Test outcomes and calculate error\n",
        "  Y_pred = linear_regressor.predict(X_test)  # make predictions\n",
        "  print('Средняя квадратичная ошибка:', mse(Y_test, Y_pred))\n",
        "  print('Средняя абсолютная ошибка:', mae(Y_test, Y_pred))\n",
        "\n",
        "  plt.figure(figsize=(10,6))\n",
        "  plt.scatter(X_test,Y_test)\n",
        "\n",
        "  plt.plot(X_test,Y_pred, c='red')\n",
        "  \n",
        "\n",
        "  plt.title('График линейной регрессии')\n",
        "  plt.xlabel(xlabel)\n",
        "  plt.ylabel(ylabel)\n",
        "  \n",
        "  plt.show()\n",
        "\n",
        "  return linear_regressor"
      ],
      "execution_count": 10,
      "outputs": []
    },
    {
      "cell_type": "code",
      "metadata": {
        "id": "R7h4ZrxmwKDT"
      },
      "source": [
        "# функция, которая включает в себя все предыдущие и вызывает результат \n",
        "def calculate_linear_regression(granularity):\n",
        "  column_name = 'Created_at_' + granularity\n",
        "  if granularity == 'month':\n",
        "    transactions_2020[column_name] = transactions_2020['created_at'].dt.month\n",
        "    intercom_users[column_name] = intercom_users['Created at'].dt.month\n",
        "  elif granularity == 'week':\n",
        "    transactions_2020[column_name] = transactions_2020['created_at'].dt.week\n",
        "    intercom_users[column_name] = intercom_users['Created at'].dt.week\n",
        "  elif granularity == 'day':\n",
        "    transactions_2020[column_name] = transactions_2020['created_at'].dt.dayofyear\n",
        "    intercom_users[column_name] = intercom_users['Created at'].dt.dayofyear\n",
        "  elif granularity == 'fifth':\n",
        "    transactions_2020['day_num'] = transactions_2020['created_at'].dt.dayofyear\n",
        "    intercom_users['day_num'] = intercom_users['Created at'].dt.dayofyear\n",
        "    intercom_by_day = intercom_users.pivot_table(index=['day_num', 'User ID'], values='Created at', aggfunc='count').reset_index()\n",
        "    step = np.array_split(np.array(intercom_by_day['day_num'].unique()), round((366-229) / 5))\n",
        "    step = [list(i) for i in step]\n",
        "    d = {}\n",
        "    for i in range(len(step)):\n",
        "      for j in step[i]:\n",
        "        d[j] = i\n",
        "    transactions_2020[column_name] = [d[i] for i in transactions_2020['day_num']]\n",
        "    intercom_users[column_name] = [d[i] for i in intercom_users['day_num']]\n",
        "  else:\n",
        "    return 'Unknown Granularity'\n",
        "\n",
        "  active_by_period = transactions_2020.pivot_table(index=[column_name, 'User ID'], values='created_at', aggfunc='count')\n",
        "  intercom_by_period = intercom_users.pivot_table(index=[column_name, 'User ID'], values='Conversation ID', aggfunc='count')\n",
        "  unique_periods = list(active_by_period.reset_index()[column_name].unique())\n",
        "\n",
        "  d_interc, d_trans = create_sets_of_users(active_by_period, intercom_by_period, column_name, unique_periods)\n",
        "\n",
        "  percent_of_active_by_period, percent_of_ctive_contacted_support = calculate_percent_of_active(d_interc, d_trans, unique_periods)\n",
        "  \n",
        "  plot_bar(percent_of_active_by_period)\n",
        "  d_intersec_period = create_dict_for_lin_r(d_interc, d_trans, unique_periods)\n",
        "  print('Процент активных клиентов из всех клиентов обратившихся в саппорт в каждом интервале')\n",
        "  pp = pprint.PrettyPrinter(indent=4)\n",
        "  pp.pprint(percent_of_active_by_period)\n",
        "  print('Средний процент активных клиентов, обратившихся в саппорт из общего количества активных клиентов', round(np.array(list(percent_of_ctive_contacted_support.values())).mean(), 2))\n",
        "  print('Средний процент активных клиентов из всех обратившихся юзеров', round(np.array(list(percent_of_active_by_period.values())).mean(), 2))\n",
        "  X = np.array(list(d_intersec_period.keys()))\n",
        "  Y = np.array(list(d_intersec_period.values()))\n",
        "  return perform_linear_regression(X,Y, 'Количество активных клиентов (ак)', 'Количество ак, обратившихся в саппорт ')\n",
        "\n"
      ],
      "execution_count": 11,
      "outputs": []
    },
    {
      "cell_type": "markdown",
      "metadata": {
        "id": "CtEQ_8ntg5qt"
      },
      "source": [
        "## Прогноз на выборке с интервалом в 1 месяц"
      ]
    },
    {
      "cell_type": "code",
      "metadata": {
        "colab": {
          "base_uri": "https://localhost:8080/",
          "height": 915
        },
        "id": "lzo_mU4_6p2i",
        "outputId": "302b3617-13e6-4a8c-a9fd-cd09cb04ba28"
      },
      "source": [
        "lr_month = calculate_linear_regression('month')\n",
        "print('Ожидаемое количество активных клиентов, которые обратятся в поддержку при общем количестве активных клиентов 30 000 в месяц:', round(lr_month.predict(np.array([30000]).reshape(-1, 1))[0][0])) \n"
      ],
      "execution_count": 12,
      "outputs": [
        {
          "output_type": "display_data",
          "data": {
            "image/png": "[encoded data removed]",
            "text/plain": [
              "<Figure size 720x432 with 1 Axes>"
            ]
          },
          "metadata": {
            "tags": [],
            "needs_background": "light"
          }
        },
        {
          "output_type": "stream",
          "text": [
            "Процент активных клиентов из всех клиентов обратившихся в саппорт в каждом интервале\n",
            "{8: 36, 9: 48, 10: 52, 11: 50, 12: 49}\n",
            "Средний процент активных клиентов, обратившихся в саппорт из общего количества активных клиентов 24.6\n",
            "Средний процент активных клиентов из всех обратившихся юзеров 47.0\n",
            "Средняя квадратичная ошибка: 737.8317655921651\n",
            "Средняя абсолютная ошибка: 23.56745096911169\n"
          ],
          "name": "stdout"
        },
        {
          "output_type": "display_data",
          "data": {
            "image/png": "[encoded data removed]",
            "text/plain": [
              "<Figure size 720x432 with 1 Axes>"
            ]
          },
          "metadata": {
            "tags": [],
            "needs_background": "light"
          }
        },
        {
          "output_type": "stream",
          "text": [
            "Ожидаемое количество активных клиентов, которые обратятся в поддержку при общем количестве активных клиентов 30 000 в месяц: 8655\n"
          ],
          "name": "stdout"
        }
      ]
    },
    {
      "cell_type": "code",
      "metadata": {
        "id": "YxSv_xFAyJH3",
        "colab": {
          "base_uri": "https://localhost:8080/"
        },
        "outputId": "7f88114c-3538-4fca-9697-4f0505c46e09"
      },
      "source": [
        "print('Ожидаемое количество всех клиентов, обратившихся в саппорт за рассматриваемый период:', round(100 / 47 * lr_month.predict(np.array([30000]).reshape(-1, 1))[0][0]))"
      ],
      "execution_count": 13,
      "outputs": [
        {
          "output_type": "stream",
          "text": [
            "Ожидаемое количество всех клиентов, обратившихся в саппорт за рассматриваемый период: 18415\n"
          ],
          "name": "stdout"
        }
      ]
    },
    {
      "cell_type": "markdown",
      "metadata": {
        "id": "_afAST-Toz-P"
      },
      "source": [
        "## Прогноз на выборке с недельным интервалом"
      ]
    },
    {
      "cell_type": "code",
      "metadata": {
        "colab": {
          "base_uri": "https://localhost:8080/",
          "height": 1000
        },
        "id": "qpkl9XJb9Yqg",
        "outputId": "644121cf-8c5f-4eb5-c28b-2279d6ed7773"
      },
      "source": [
        "lr_week = calculate_linear_regression('week')\n",
        "print('Ожидаемое количество активных клиентов, которые обратятся в поддержку при общем количестве активных клиентов 7 500 в неделю:', round(lr_week.predict(np.array([7500]).reshape(-1, 1))[0][0]))"
      ],
      "execution_count": 14,
      "outputs": [
        {
          "output_type": "display_data",
          "data": {
            "image/png": "[encoded data removed]",
            "text/plain": [
              "<Figure size 720x432 with 1 Axes>"
            ]
          },
          "metadata": {
            "tags": [],
            "needs_background": "light"
          }
        },
        {
          "output_type": "stream",
          "text": [
            "Процент активных клиентов из всех клиентов обратившихся в саппорт в каждом интервале\n",
            "{   33: 8,\n",
            "    34: 42,\n",
            "    35: 45,\n",
            "    36: 44,\n",
            "    37: 42,\n",
            "    38: 37,\n",
            "    39: 44,\n",
            "    40: 45,\n",
            "    41: 45,\n",
            "    42: 48,\n",
            "    43: 48,\n",
            "    44: 47,\n",
            "    45: 47,\n",
            "    46: 46,\n",
            "    47: 42,\n",
            "    48: 41,\n",
            "    49: 42,\n",
            "    50: 39,\n",
            "    51: 44,\n",
            "    52: 40,\n",
            "    53: 44}\n",
            "Средний процент активных клиентов, обратившихся в саппорт из общего количества активных клиентов 12.9\n",
            "Средний процент активных клиентов из всех обратившихся юзеров 41.9\n",
            "Средняя квадратичная ошибка: 128.01123890219634\n",
            "Средняя абсолютная ошибка: 10.603965863878582\n"
          ],
          "name": "stdout"
        },
        {
          "output_type": "display_data",
          "data": {
            "image/png": "[encoded data removed]",
            "text/plain": [
              "<Figure size 720x432 with 1 Axes>"
            ]
          },
          "metadata": {
            "tags": [],
            "needs_background": "light"
          }
        },
        {
          "output_type": "stream",
          "text": [
            "Ожидаемое количество активных клиентов, которые обратятся в поддержку при общем количестве активных клиентов 7 500 в неделю: 1063\n"
          ],
          "name": "stdout"
        }
      ]
    },
    {
      "cell_type": "code",
      "metadata": {
        "colab": {
          "base_uri": "https://localhost:8080/"
        },
        "id": "_6mokhvIxEiv",
        "outputId": "bfe24ccd-a043-454b-f1a4-c68a86b05eeb"
      },
      "source": [
        "print('Ожидаемое количество всех клиентов, обратившихся в саппорт за рассматриваемый период:', round(100 / 41.9 * lr_week.predict(np.array([7500]).reshape(-1, 1))[0][0])) "
      ],
      "execution_count": 15,
      "outputs": [
        {
          "output_type": "stream",
          "text": [
            "Ожидаемое количество всех клиентов, обратившихся в саппорт за рассматриваемый период: 2538\n"
          ],
          "name": "stdout"
        }
      ]
    },
    {
      "cell_type": "markdown",
      "metadata": {
        "id": "7DQo7zUto4qA"
      },
      "source": [
        "## Проноз на выборке с интервалом в 5 дней"
      ]
    },
    {
      "cell_type": "code",
      "metadata": {
        "colab": {
          "base_uri": "https://localhost:8080/",
          "height": 1000
        },
        "id": "81lsa6vJfbJB",
        "outputId": "80a131e0-f0ac-41b9-c4b1-604264e0b77d"
      },
      "source": [
        "lr_five = calculate_linear_regression('fifth')\n",
        "print('Ожидаемое количество активных клиентов, которые обратятся в поддержку при общем количестве активных клиентов 5 000 за 5 дней:', round(lr_five.predict(np.array([5000]).reshape(-1, 1))[0][0])) "
      ],
      "execution_count": 16,
      "outputs": [
        {
          "output_type": "display_data",
          "data": {
            "image/png": "[encoded data removed]",
            "text/plain": [
              "<Figure size 720x432 with 1 Axes>"
            ]
          },
          "metadata": {
            "tags": [],
            "needs_background": "light"
          }
        },
        {
          "output_type": "stream",
          "text": [
            "Процент активных клиентов из всех клиентов обратившихся в саппорт в каждом интервале\n",
            "{   2: 28,\n",
            "    3: 41,\n",
            "    4: 43,\n",
            "    5: 45,\n",
            "    6: 45,\n",
            "    7: 35,\n",
            "    8: 41,\n",
            "    9: 39,\n",
            "    10: 42,\n",
            "    11: 42,\n",
            "    12: 47,\n",
            "    13: 47,\n",
            "    14: 49,\n",
            "    15: 45,\n",
            "    16: 46,\n",
            "    17: 44,\n",
            "    18: 39,\n",
            "    19: 39,\n",
            "    20: 42,\n",
            "    21: 37,\n",
            "    22: 36,\n",
            "    23: 42,\n",
            "    24: 38,\n",
            "    25: 37,\n",
            "    26: 45}\n",
            "Средний процент активных клиентов, обратившихся в саппорт из общего количества активных клиентов 12.04\n",
            "Средний процент активных клиентов из всех обратившихся юзеров 41.36\n",
            "Средняя квадратичная ошибка: 354.8990396357305\n",
            "Средняя абсолютная ошибка: 14.092074977198767\n"
          ],
          "name": "stdout"
        },
        {
          "output_type": "display_data",
          "data": {
            "image/png": "[encoded data removed]",
            "text/plain": [
              "<Figure size 720x432 with 1 Axes>"
            ]
          },
          "metadata": {
            "tags": [],
            "needs_background": "light"
          }
        },
        {
          "output_type": "stream",
          "text": [
            "Ожидаемое количество активных клиентов, которые обратятся в поддержку при общем количестве активных клиентов 5 000 за 5 дней: 704\n"
          ],
          "name": "stdout"
        }
      ]
    },
    {
      "cell_type": "code",
      "metadata": {
        "colab": {
          "base_uri": "https://localhost:8080/"
        },
        "id": "XOjev0kaw_Ra",
        "outputId": "3d2e59e3-f824-4f82-d930-d2329ccc599d"
      },
      "source": [
        "print('Ожидаемое количество всех клиентов, обратившихся в саппорт за рассматриваемый период:', round(100 / 41.36 * lr_five.predict(np.array([5000]).reshape(-1, 1))[0][0])) "
      ],
      "execution_count": 17,
      "outputs": [
        {
          "output_type": "stream",
          "text": [
            "Ожидаемое количество всех клиентов, обратившихся в саппорт за рассматриваемый период: 1703\n"
          ],
          "name": "stdout"
        }
      ]
    },
    {
      "cell_type": "markdown",
      "metadata": {
        "id": "SmYSjJxLv3BC"
      },
      "source": [
        "## Прогноз на выборке с интервалом 1 день"
      ]
    },
    {
      "cell_type": "code",
      "metadata": {
        "colab": {
          "base_uri": "https://localhost:8080/",
          "height": 1000
        },
        "id": "xlBwlgu7w_2M",
        "outputId": "0780b0e8-e0a0-41dc-e019-9eeebb141bd0"
      },
      "source": [
        "lr_five = calculate_linear_regression('day')"
      ],
      "execution_count": 18,
      "outputs": [
        {
          "output_type": "display_data",
          "data": {
            "image/png": "[encoded data removed]",
            "text/plain": [
              "<Figure size 720x432 with 1 Axes>"
            ]
          },
          "metadata": {
            "tags": [],
            "needs_background": "light"
          }
        },
        {
          "output_type": "stream",
          "text": [
            "Процент активных клиентов из всех клиентов обратившихся в саппорт в каждом интервале\n",
            "{   229: 28,\n",
            "    230: 29,\n",
            "    231: 32,\n",
            "    232: 25,\n",
            "    233: 26,\n",
            "    234: 33,\n",
            "    235: 29,\n",
            "    236: 21,\n",
            "    237: 40,\n",
            "    238: 31,\n",
            "    239: 30,\n",
            "    240: 27,\n",
            "    241: 29,\n",
            "    242: 26,\n",
            "    243: 35,\n",
            "    244: 39,\n",
            "    245: 40,\n",
            "    246: 29,\n",
            "    247: 27,\n",
            "    248: 26,\n",
            "    249: 30,\n",
            "    250: 15,\n",
            "    251: 30,\n",
            "    252: 23,\n",
            "    253: 33,\n",
            "    254: 40,\n",
            "    255: 33,\n",
            "    256: 17,\n",
            "    257: 15,\n",
            "    258: 34,\n",
            "    259: 23,\n",
            "    260: 25,\n",
            "    261: 25,\n",
            "    262: 32,\n",
            "    263: 29,\n",
            "    264: 19,\n",
            "    265: 44,\n",
            "    266: 25,\n",
            "    267: 31,\n",
            "    268: 30,\n",
            "    269: 24,\n",
            "    270: 31,\n",
            "    271: 30,\n",
            "    272: 31,\n",
            "    273: 37,\n",
            "    274: 31,\n",
            "    275: 38,\n",
            "    276: 28,\n",
            "    277: 24,\n",
            "    278: 29,\n",
            "    279: 41,\n",
            "    280: 30,\n",
            "    281: 31,\n",
            "    282: 47,\n",
            "    283: 32,\n",
            "    284: 30,\n",
            "    285: 26,\n",
            "    286: 30,\n",
            "    287: 31,\n",
            "    288: 39,\n",
            "    289: 28,\n",
            "    290: 34,\n",
            "    291: 47,\n",
            "    292: 28,\n",
            "    293: 37,\n",
            "    294: 32,\n",
            "    295: 38,\n",
            "    296: 40,\n",
            "    297: 21,\n",
            "    298: 40,\n",
            "    299: 29,\n",
            "    300: 35,\n",
            "    301: 33,\n",
            "    302: 29,\n",
            "    303: 45,\n",
            "    304: 45,\n",
            "    305: 29,\n",
            "    306: 31,\n",
            "    307: 36,\n",
            "    308: 38,\n",
            "    309: 35,\n",
            "    310: 35,\n",
            "    311: 41,\n",
            "    312: 31,\n",
            "    313: 28,\n",
            "    314: 41,\n",
            "    315: 38,\n",
            "    316: 39,\n",
            "    317: 48,\n",
            "    318: 30,\n",
            "    319: 26,\n",
            "    320: 25,\n",
            "    321: 36,\n",
            "    322: 25,\n",
            "    323: 30,\n",
            "    324: 29,\n",
            "    325: 21,\n",
            "    326: 27,\n",
            "    327: 25,\n",
            "    328: 26,\n",
            "    329: 28,\n",
            "    330: 21,\n",
            "    331: 31,\n",
            "    332: 29,\n",
            "    333: 22,\n",
            "    334: 28,\n",
            "    335: 32,\n",
            "    336: 28,\n",
            "    337: 27,\n",
            "    338: 32,\n",
            "    339: 30,\n",
            "    340: 25,\n",
            "    341: 27,\n",
            "    342: 22,\n",
            "    343: 31,\n",
            "    344: 23,\n",
            "    345: 26,\n",
            "    346: 27,\n",
            "    347: 30,\n",
            "    348: 35,\n",
            "    349: 25,\n",
            "    350: 30,\n",
            "    351: 37,\n",
            "    352: 26,\n",
            "    353: 36,\n",
            "    354: 25,\n",
            "    355: 27,\n",
            "    356: 25,\n",
            "    357: 31,\n",
            "    358: 33,\n",
            "    359: 23,\n",
            "    360: 23,\n",
            "    361: 23,\n",
            "    362: 37,\n",
            "    363: 27,\n",
            "    364: 35,\n",
            "    365: 28,\n",
            "    366: 42}\n",
            "Средний процент активных клиентов, обратившихся в саппорт из общего количества активных клиентов 6.05\n",
            "Средний процент активных клиентов из всех обратившихся юзеров 30.53\n",
            "Средняя квадратичная ошибка: 21.2804021114139\n",
            "Средняя абсолютная ошибка: 3.7030174763342365\n"
          ],
          "name": "stdout"
        },
        {
          "output_type": "display_data",
          "data": {
            "image/png": "[encoded data removed]",
            "text/plain": [
              "<Figure size 720x432 with 1 Axes>"
            ]
          },
          "metadata": {
            "tags": [],
            "needs_background": "light"
          }
        }
      ]
    },
    {
      "cell_type": "markdown",
      "metadata": {
        "id": "zUeVXBcCuge7"
      },
      "source": [
        "## Подготовим данные для построения модели линейной регресси для предсказания количества входящих обращений от пользователей и лидов.\n",
        "\n"
      ]
    },
    {
      "cell_type": "code",
      "metadata": {
        "id": "FR5dP_VO8eYN"
      },
      "source": [
        "Aug_dec = pd.read_csv('/content/Aug-Dec.csv') # датафрейм с датами и количеством агентов поддержки в дневную и вечернюю смены\n",
        "Aug_dec['Date'] = pd.to_datetime(Aug_dec['Date'])"
      ],
      "execution_count": 19,
      "outputs": []
    },
    {
      "cell_type": "code",
      "metadata": {
        "colab": {
          "base_uri": "https://localhost:8080/",
          "height": 406
        },
        "id": "HoIXug3c9RMz",
        "outputId": "aa640254-d916-4230-f700-25cf919fd947"
      },
      "source": [
        "Aug_dec.columns = ['Date_only', 'Morning', 'Evening']\n",
        "Aug_dec"
      ],
      "execution_count": 20,
      "outputs": [
        {
          "output_type": "execute_result",
          "data": {
            "text/html": [
              "<div>\n",
              "<style scoped>\n",
              "    .dataframe tbody tr th:only-of-type {\n",
              "        vertical-align: middle;\n",
              "    }\n",
              "\n",
              "    .dataframe tbody tr th {\n",
              "        vertical-align: top;\n",
              "    }\n",
              "\n",
              "    .dataframe thead th {\n",
              "        text-align: right;\n",
              "    }\n",
              "</style>\n",
              "<table border=\"1\" class=\"dataframe\">\n",
              "  <thead>\n",
              "    <tr style=\"text-align: right;\">\n",
              "      <th></th>\n",
              "      <th>Date_only</th>\n",
              "      <th>Morning</th>\n",
              "      <th>Evening</th>\n",
              "    </tr>\n",
              "  </thead>\n",
              "  <tbody>\n",
              "    <tr>\n",
              "      <th>0</th>\n",
              "      <td>2020-08-01</td>\n",
              "      <td>2</td>\n",
              "      <td>0</td>\n",
              "    </tr>\n",
              "    <tr>\n",
              "      <th>1</th>\n",
              "      <td>2020-08-02</td>\n",
              "      <td>3</td>\n",
              "      <td>0</td>\n",
              "    </tr>\n",
              "    <tr>\n",
              "      <th>2</th>\n",
              "      <td>2020-08-03</td>\n",
              "      <td>6</td>\n",
              "      <td>4</td>\n",
              "    </tr>\n",
              "    <tr>\n",
              "      <th>3</th>\n",
              "      <td>2020-08-04</td>\n",
              "      <td>6</td>\n",
              "      <td>4</td>\n",
              "    </tr>\n",
              "    <tr>\n",
              "      <th>4</th>\n",
              "      <td>2020-08-05</td>\n",
              "      <td>4</td>\n",
              "      <td>4</td>\n",
              "    </tr>\n",
              "    <tr>\n",
              "      <th>...</th>\n",
              "      <td>...</td>\n",
              "      <td>...</td>\n",
              "      <td>...</td>\n",
              "    </tr>\n",
              "    <tr>\n",
              "      <th>148</th>\n",
              "      <td>2020-12-27</td>\n",
              "      <td>5</td>\n",
              "      <td>0</td>\n",
              "    </tr>\n",
              "    <tr>\n",
              "      <th>149</th>\n",
              "      <td>2020-12-28</td>\n",
              "      <td>3</td>\n",
              "      <td>2</td>\n",
              "    </tr>\n",
              "    <tr>\n",
              "      <th>150</th>\n",
              "      <td>2020-12-29</td>\n",
              "      <td>5</td>\n",
              "      <td>3</td>\n",
              "    </tr>\n",
              "    <tr>\n",
              "      <th>151</th>\n",
              "      <td>2020-12-30</td>\n",
              "      <td>5</td>\n",
              "      <td>1</td>\n",
              "    </tr>\n",
              "    <tr>\n",
              "      <th>152</th>\n",
              "      <td>2020-12-31</td>\n",
              "      <td>4</td>\n",
              "      <td>0</td>\n",
              "    </tr>\n",
              "  </tbody>\n",
              "</table>\n",
              "<p>153 rows × 3 columns</p>\n",
              "</div>"
            ],
            "text/plain": [
              "     Date_only  Morning  Evening\n",
              "0   2020-08-01        2        0\n",
              "1   2020-08-02        3        0\n",
              "2   2020-08-03        6        4\n",
              "3   2020-08-04        6        4\n",
              "4   2020-08-05        4        4\n",
              "..         ...      ...      ...\n",
              "148 2020-12-27        5        0\n",
              "149 2020-12-28        3        2\n",
              "150 2020-12-29        5        3\n",
              "151 2020-12-30        5        1\n",
              "152 2020-12-31        4        0\n",
              "\n",
              "[153 rows x 3 columns]"
            ]
          },
          "metadata": {
            "tags": []
          },
          "execution_count": 20
        }
      ]
    },
    {
      "cell_type": "code",
      "metadata": {
        "colab": {
          "base_uri": "https://localhost:8080/",
          "height": 926
        },
        "id": "TdXIaA6--MuX",
        "outputId": "ae748622-c9e7-4204-eeac-a54b4660721f"
      },
      "source": [
        "intercom_aug_dec = intercom_from_august\n",
        "intercom_aug_dec['Date_only'] = intercom_from_august['Created at'].dt.date\n",
        "intercom_aug_dec # выгрузка из интеркома с августа по декабрь"
      ],
      "execution_count": 21,
      "outputs": [
        {
          "output_type": "execute_result",
          "data": {
            "text/html": [
              "<div>\n",
              "<style scoped>\n",
              "    .dataframe tbody tr th:only-of-type {\n",
              "        vertical-align: middle;\n",
              "    }\n",
              "\n",
              "    .dataframe tbody tr th {\n",
              "        vertical-align: top;\n",
              "    }\n",
              "\n",
              "    .dataframe thead th {\n",
              "        text-align: right;\n",
              "    }\n",
              "</style>\n",
              "<table border=\"1\" class=\"dataframe\">\n",
              "  <thead>\n",
              "    <tr style=\"text-align: right;\">\n",
              "      <th></th>\n",
              "      <th>Conversation ID</th>\n",
              "      <th>Conversation URL</th>\n",
              "      <th>Title</th>\n",
              "      <th>Conversation status</th>\n",
              "      <th>Conversation tags</th>\n",
              "      <th>Created at</th>\n",
              "      <th>Last updated at</th>\n",
              "      <th>Time Zone</th>\n",
              "      <th>Inbound/Outbound</th>\n",
              "      <th>Reopened</th>\n",
              "      <th>Closed</th>\n",
              "      <th>Conversation rating</th>\n",
              "      <th>Conversation rating remark</th>\n",
              "      <th>Email</th>\n",
              "      <th>Location</th>\n",
              "      <th>Name</th>\n",
              "      <th>Type</th>\n",
              "      <th>Participated (name)</th>\n",
              "      <th>User ID</th>\n",
              "      <th>Assigned to (name)</th>\n",
              "      <th>Closed by (name)</th>\n",
              "      <th>Teammates participated</th>\n",
              "      <th>Time to first reply (seconds)</th>\n",
              "      <th>Time to last close (seconds)</th>\n",
              "      <th>Teammate replies</th>\n",
              "      <th>Channel</th>\n",
              "      <th>Source</th>\n",
              "      <th>If_user</th>\n",
              "      <th>Date_only</th>\n",
              "    </tr>\n",
              "  </thead>\n",
              "  <tbody>\n",
              "    <tr>\n",
              "      <th>0</th>\n",
              "      <td>19131500062955</td>\n",
              "      <td>https://app.intercom.com/a/apps/h202fg1c/inbox...</td>\n",
              "      <td>NaN</td>\n",
              "      <td>Closed</td>\n",
              "      <td>NaN</td>\n",
              "      <td>2020-11-01 07:19:36</td>\n",
              "      <td>2020-11-01 15:13:55</td>\n",
              "      <td>London</td>\n",
              "      <td>Inbound</td>\n",
              "      <td>0</td>\n",
              "      <td>1</td>\n",
              "      <td>NaN</td>\n",
              "      <td>NaN</td>\n",
              "      <td>kconnect@mailfence.com</td>\n",
              "      <td>United Kingdom</td>\n",
              "      <td>NaN</td>\n",
              "      <td>User</td>\n",
              "      <td>NaN</td>\n",
              "      <td>826481</td>\n",
              "      <td>Valerie</td>\n",
              "      <td>Valerie</td>\n",
              "      <td>Valerie</td>\n",
              "      <td>7445.0</td>\n",
              "      <td>20279.0</td>\n",
              "      <td>1</td>\n",
              "      <td>Desktop</td>\n",
              "      <td>Article</td>\n",
              "      <td>True</td>\n",
              "      <td>2020-11-01</td>\n",
              "    </tr>\n",
              "    <tr>\n",
              "      <th>1</th>\n",
              "      <td>19131500063032</td>\n",
              "      <td>https://app.intercom.com/a/apps/h202fg1c/inbox...</td>\n",
              "      <td>NaN</td>\n",
              "      <td>Closed</td>\n",
              "      <td>NaN</td>\n",
              "      <td>2020-11-01 11:02:28</td>\n",
              "      <td>2020-11-01 12:11:21</td>\n",
              "      <td>London</td>\n",
              "      <td>Outbound</td>\n",
              "      <td>0</td>\n",
              "      <td>1</td>\n",
              "      <td>NaN</td>\n",
              "      <td>NaN</td>\n",
              "      <td>marco.luis@protonmail.com</td>\n",
              "      <td>Windhoek, Namibia</td>\n",
              "      <td>Marco Artur Soares Marques Luis</td>\n",
              "      <td>User</td>\n",
              "      <td>Marco Artur Soares Marques Luis</td>\n",
              "      <td>561912</td>\n",
              "      <td>Renata</td>\n",
              "      <td>Renata</td>\n",
              "      <td>Renata</td>\n",
              "      <td>68.0</td>\n",
              "      <td>4133.0</td>\n",
              "      <td>1</td>\n",
              "      <td>Desktop</td>\n",
              "      <td>NaN</td>\n",
              "      <td>True</td>\n",
              "      <td>2020-11-01</td>\n",
              "    </tr>\n",
              "    <tr>\n",
              "      <th>2</th>\n",
              "      <td>19131500062837</td>\n",
              "      <td>https://app.intercom.com/a/apps/h202fg1c/inbox...</td>\n",
              "      <td>NaN</td>\n",
              "      <td>Closed</td>\n",
              "      <td>NaN</td>\n",
              "      <td>2020-10-31 18:32:05</td>\n",
              "      <td>2020-11-01 10:30:27</td>\n",
              "      <td>London</td>\n",
              "      <td>Outbound</td>\n",
              "      <td>0</td>\n",
              "      <td>1</td>\n",
              "      <td>NaN</td>\n",
              "      <td>NaN</td>\n",
              "      <td>blacktear37@yahoo.com</td>\n",
              "      <td>Athens, Greece</td>\n",
              "      <td>Gabriela Alina Chira</td>\n",
              "      <td>User</td>\n",
              "      <td>Gabriela Alina Chira</td>\n",
              "      <td>532836</td>\n",
              "      <td>First level support</td>\n",
              "      <td>Alina</td>\n",
              "      <td>NaN</td>\n",
              "      <td>NaN</td>\n",
              "      <td>701.0</td>\n",
              "      <td>0</td>\n",
              "      <td>Desktop</td>\n",
              "      <td>NaN</td>\n",
              "      <td>True</td>\n",
              "      <td>2020-10-31</td>\n",
              "    </tr>\n",
              "    <tr>\n",
              "      <th>3</th>\n",
              "      <td>19131500062826</td>\n",
              "      <td>https://app.intercom.com/a/apps/h202fg1c/inbox...</td>\n",
              "      <td>NaN</td>\n",
              "      <td>Closed</td>\n",
              "      <td>NaN</td>\n",
              "      <td>2020-10-31 17:58:39</td>\n",
              "      <td>2020-11-01 09:09:53</td>\n",
              "      <td>London</td>\n",
              "      <td>Inbound</td>\n",
              "      <td>0</td>\n",
              "      <td>1</td>\n",
              "      <td>NaN</td>\n",
              "      <td>NaN</td>\n",
              "      <td>NaN</td>\n",
              "      <td>Istanbul, Turkey</td>\n",
              "      <td>NaN</td>\n",
              "      <td>Lead</td>\n",
              "      <td>NaN</td>\n",
              "      <td>f7ce5635-00c2-4f7b-8d31-11d0100b0c03</td>\n",
              "      <td>Alina</td>\n",
              "      <td>Alina</td>\n",
              "      <td>Alina</td>\n",
              "      <td>593.0</td>\n",
              "      <td>593.0</td>\n",
              "      <td>1</td>\n",
              "      <td>Desktop</td>\n",
              "      <td>NaN</td>\n",
              "      <td>False</td>\n",
              "      <td>2020-10-31</td>\n",
              "    </tr>\n",
              "    <tr>\n",
              "      <th>4</th>\n",
              "      <td>19131500062661</td>\n",
              "      <td>https://app.intercom.com/a/apps/h202fg1c/inbox...</td>\n",
              "      <td>NaN</td>\n",
              "      <td>Closed</td>\n",
              "      <td>**EU_card**</td>\n",
              "      <td>2020-10-31 10:47:26</td>\n",
              "      <td>2020-10-31 11:07:46</td>\n",
              "      <td>London</td>\n",
              "      <td>Inbound</td>\n",
              "      <td>0</td>\n",
              "      <td>1</td>\n",
              "      <td>NaN</td>\n",
              "      <td>NaN</td>\n",
              "      <td>NaN</td>\n",
              "      <td>Ludhiana, India</td>\n",
              "      <td>NaN</td>\n",
              "      <td>Lead</td>\n",
              "      <td>NaN</td>\n",
              "      <td>aed96b41-cbf7-42a7-9ee9-95929d225a0f</td>\n",
              "      <td>Daniel</td>\n",
              "      <td>Daniel</td>\n",
              "      <td>Daniel</td>\n",
              "      <td>688.0</td>\n",
              "      <td>1220.0</td>\n",
              "      <td>1</td>\n",
              "      <td>Desktop</td>\n",
              "      <td>NaN</td>\n",
              "      <td>False</td>\n",
              "      <td>2020-10-31</td>\n",
              "    </tr>\n",
              "    <tr>\n",
              "      <th>...</th>\n",
              "      <td>...</td>\n",
              "      <td>...</td>\n",
              "      <td>...</td>\n",
              "      <td>...</td>\n",
              "      <td>...</td>\n",
              "      <td>...</td>\n",
              "      <td>...</td>\n",
              "      <td>...</td>\n",
              "      <td>...</td>\n",
              "      <td>...</td>\n",
              "      <td>...</td>\n",
              "      <td>...</td>\n",
              "      <td>...</td>\n",
              "      <td>...</td>\n",
              "      <td>...</td>\n",
              "      <td>...</td>\n",
              "      <td>...</td>\n",
              "      <td>...</td>\n",
              "      <td>...</td>\n",
              "      <td>...</td>\n",
              "      <td>...</td>\n",
              "      <td>...</td>\n",
              "      <td>...</td>\n",
              "      <td>...</td>\n",
              "      <td>...</td>\n",
              "      <td>...</td>\n",
              "      <td>...</td>\n",
              "      <td>...</td>\n",
              "      <td>...</td>\n",
              "    </tr>\n",
              "    <tr>\n",
              "      <th>37957</th>\n",
              "      <td>19131500080798</td>\n",
              "      <td>https://app.intercom.com/a/apps/h202fg1c/inbox...</td>\n",
              "      <td>NaN</td>\n",
              "      <td>Snoozed</td>\n",
              "      <td>**EU_card**</td>\n",
              "      <td>2020-12-07 14:31:14</td>\n",
              "      <td>2021-01-17 16:26:38</td>\n",
              "      <td>London</td>\n",
              "      <td>Inbound</td>\n",
              "      <td>1</td>\n",
              "      <td>2</td>\n",
              "      <td>NaN</td>\n",
              "      <td>NaN</td>\n",
              "      <td>cc.oscar.carlson@gmail.com</td>\n",
              "      <td>Stockholm, Sweden</td>\n",
              "      <td>Oscar Carl Christer Carlson</td>\n",
              "      <td>User</td>\n",
              "      <td>Oscar Carl Christer Carlson</td>\n",
              "      <td>823429</td>\n",
              "      <td>Daniel</td>\n",
              "      <td>Daniel</td>\n",
              "      <td>Daniel</td>\n",
              "      <td>168.0</td>\n",
              "      <td>1037.0</td>\n",
              "      <td>5</td>\n",
              "      <td>Desktop</td>\n",
              "      <td>NaN</td>\n",
              "      <td>True</td>\n",
              "      <td>2020-12-07</td>\n",
              "    </tr>\n",
              "    <tr>\n",
              "      <th>37959</th>\n",
              "      <td>19131500087271</td>\n",
              "      <td>https://app.intercom.com/a/apps/h202fg1c/inbox...</td>\n",
              "      <td>WG: Cryptopay-Konto geschlossen</td>\n",
              "      <td>Open</td>\n",
              "      <td>NaN</td>\n",
              "      <td>2020-12-19 21:52:10</td>\n",
              "      <td>2021-01-18 06:00:16</td>\n",
              "      <td>London</td>\n",
              "      <td>Inbound</td>\n",
              "      <td>1</td>\n",
              "      <td>1</td>\n",
              "      <td>NaN</td>\n",
              "      <td>NaN</td>\n",
              "      <td>souveraen.peter@aon.at</td>\n",
              "      <td>Greith, Austria</td>\n",
              "      <td>Peter Heiss</td>\n",
              "      <td>User</td>\n",
              "      <td>Peter Heiss</td>\n",
              "      <td>120151</td>\n",
              "      <td>Konstantin</td>\n",
              "      <td>Daniel</td>\n",
              "      <td>Daniel,Konstantin</td>\n",
              "      <td>3578.0</td>\n",
              "      <td>15477.0</td>\n",
              "      <td>6</td>\n",
              "      <td>Email</td>\n",
              "      <td>NaN</td>\n",
              "      <td>True</td>\n",
              "      <td>2020-12-19</td>\n",
              "    </tr>\n",
              "    <tr>\n",
              "      <th>37960</th>\n",
              "      <td>19131500066811</td>\n",
              "      <td>https://app.intercom.com/a/apps/h202fg1c/inbox...</td>\n",
              "      <td>NaN</td>\n",
              "      <td>Closed</td>\n",
              "      <td>**EU_card**, i-want-to-manage-btc-addresses-i-...</td>\n",
              "      <td>2020-11-10 15:25:19</td>\n",
              "      <td>2020-12-18 10:25:01</td>\n",
              "      <td>London</td>\n",
              "      <td>Inbound</td>\n",
              "      <td>0</td>\n",
              "      <td>7</td>\n",
              "      <td>NaN</td>\n",
              "      <td>NaN</td>\n",
              "      <td>pandabulltrader@gmail.com</td>\n",
              "      <td>United Kingdom</td>\n",
              "      <td>Allan James Irving</td>\n",
              "      <td>User</td>\n",
              "      <td>Allan James Irving</td>\n",
              "      <td>795598</td>\n",
              "      <td>Alex</td>\n",
              "      <td>Alex</td>\n",
              "      <td>Renata,Luda,Alex</td>\n",
              "      <td>27.0</td>\n",
              "      <td>1378782.0</td>\n",
              "      <td>12</td>\n",
              "      <td>Android App</td>\n",
              "      <td>NaN</td>\n",
              "      <td>True</td>\n",
              "      <td>2020-11-10</td>\n",
              "    </tr>\n",
              "    <tr>\n",
              "      <th>37961</th>\n",
              "      <td>19131500086023</td>\n",
              "      <td>https://app.intercom.com/a/apps/h202fg1c/inbox...</td>\n",
              "      <td>NaN</td>\n",
              "      <td>Closed</td>\n",
              "      <td>*bank_transfers*</td>\n",
              "      <td>2020-12-17 16:04:02</td>\n",
              "      <td>2020-12-18 10:30:48</td>\n",
              "      <td>London</td>\n",
              "      <td>Inbound</td>\n",
              "      <td>0</td>\n",
              "      <td>1</td>\n",
              "      <td>NaN</td>\n",
              "      <td>NaN</td>\n",
              "      <td>pandabulltrader@gmail.com</td>\n",
              "      <td>United Kingdom</td>\n",
              "      <td>Allan James Irving</td>\n",
              "      <td>User</td>\n",
              "      <td>Allan James Irving</td>\n",
              "      <td>795598</td>\n",
              "      <td>Alyona</td>\n",
              "      <td>NaN</td>\n",
              "      <td>Alyona</td>\n",
              "      <td>4439.0</td>\n",
              "      <td>NaN</td>\n",
              "      <td>7</td>\n",
              "      <td>Android App</td>\n",
              "      <td>NaN</td>\n",
              "      <td>True</td>\n",
              "      <td>2020-12-17</td>\n",
              "    </tr>\n",
              "    <tr>\n",
              "      <th>37962</th>\n",
              "      <td>19131500086454</td>\n",
              "      <td>https://app.intercom.com/a/apps/h202fg1c/inbox...</td>\n",
              "      <td>NaN</td>\n",
              "      <td>Closed</td>\n",
              "      <td>NaN</td>\n",
              "      <td>2020-12-18 10:01:39</td>\n",
              "      <td>2020-12-18 10:30:49</td>\n",
              "      <td>London</td>\n",
              "      <td>Inbound</td>\n",
              "      <td>0</td>\n",
              "      <td>1</td>\n",
              "      <td>NaN</td>\n",
              "      <td>NaN</td>\n",
              "      <td>pandabulltrader@gmail.com</td>\n",
              "      <td>United Kingdom</td>\n",
              "      <td>Allan James Irving</td>\n",
              "      <td>User</td>\n",
              "      <td>Allan James Irving</td>\n",
              "      <td>795598</td>\n",
              "      <td>Konstantin</td>\n",
              "      <td>NaN</td>\n",
              "      <td>NaN</td>\n",
              "      <td>NaN</td>\n",
              "      <td>NaN</td>\n",
              "      <td>0</td>\n",
              "      <td>Android App</td>\n",
              "      <td>NaN</td>\n",
              "      <td>True</td>\n",
              "      <td>2020-12-18</td>\n",
              "    </tr>\n",
              "  </tbody>\n",
              "</table>\n",
              "<p>16523 rows × 29 columns</p>\n",
              "</div>"
            ],
            "text/plain": [
              "       Conversation ID  ...   Date_only\n",
              "0       19131500062955  ...  2020-11-01\n",
              "1       19131500063032  ...  2020-11-01\n",
              "2       19131500062837  ...  2020-10-31\n",
              "3       19131500062826  ...  2020-10-31\n",
              "4       19131500062661  ...  2020-10-31\n",
              "...                ...  ...         ...\n",
              "37957   19131500080798  ...  2020-12-07\n",
              "37959   19131500087271  ...  2020-12-19\n",
              "37960   19131500066811  ...  2020-11-10\n",
              "37961   19131500086023  ...  2020-12-17\n",
              "37962   19131500086454  ...  2020-12-18\n",
              "\n",
              "[16523 rows x 29 columns]"
            ]
          },
          "metadata": {
            "tags": []
          },
          "execution_count": 21
        }
      ]
    },
    {
      "cell_type": "code",
      "metadata": {
        "id": "vLPEcF9h-Zf5"
      },
      "source": [
        "intercom_aug_dec['Minutes to first reply'] = intercom_aug_dec['Time to first reply (seconds)'] / 60"
      ],
      "execution_count": 22,
      "outputs": []
    },
    {
      "cell_type": "code",
      "metadata": {
        "colab": {
          "base_uri": "https://localhost:8080/",
          "height": 466
        },
        "id": "7daOJi5n-jlM",
        "outputId": "7cd21716-79a0-4329-b6ac-a8da4caa1e34"
      },
      "source": [
        "#Создадим отдельную таблицу и расчитаем среднее и медиану времени первого ответа и пользовательского рейтинга, и количество входящих обращений по дням\n",
        "pivot_by_date = intercom_aug_dec.pivot_table(index='Date_only', \\\n",
        "                                         aggfunc={'Minutes to first reply': ['mean', 'median'], \\\n",
        "                                                  'Conversation rating' : ['mean', 'median'],\n",
        "                                                  'Conversation ID' : 'count'})\n",
        "pivot_by_date\n"
      ],
      "execution_count": 23,
      "outputs": [
        {
          "output_type": "execute_result",
          "data": {
            "text/html": [
              "<div>\n",
              "<style scoped>\n",
              "    .dataframe tbody tr th:only-of-type {\n",
              "        vertical-align: middle;\n",
              "    }\n",
              "\n",
              "    .dataframe tbody tr th {\n",
              "        vertical-align: top;\n",
              "    }\n",
              "\n",
              "    .dataframe thead tr th {\n",
              "        text-align: left;\n",
              "    }\n",
              "\n",
              "    .dataframe thead tr:last-of-type th {\n",
              "        text-align: right;\n",
              "    }\n",
              "</style>\n",
              "<table border=\"1\" class=\"dataframe\">\n",
              "  <thead>\n",
              "    <tr>\n",
              "      <th></th>\n",
              "      <th>Conversation ID</th>\n",
              "      <th colspan=\"2\" halign=\"left\">Conversation rating</th>\n",
              "      <th colspan=\"2\" halign=\"left\">Minutes to first reply</th>\n",
              "    </tr>\n",
              "    <tr>\n",
              "      <th></th>\n",
              "      <th>count</th>\n",
              "      <th>mean</th>\n",
              "      <th>median</th>\n",
              "      <th>mean</th>\n",
              "      <th>median</th>\n",
              "    </tr>\n",
              "    <tr>\n",
              "      <th>Date_only</th>\n",
              "      <th></th>\n",
              "      <th></th>\n",
              "      <th></th>\n",
              "      <th></th>\n",
              "      <th></th>\n",
              "    </tr>\n",
              "  </thead>\n",
              "  <tbody>\n",
              "    <tr>\n",
              "      <th>2020-08-01</th>\n",
              "      <td>63</td>\n",
              "      <td>4.444444</td>\n",
              "      <td>5.0</td>\n",
              "      <td>29.154333</td>\n",
              "      <td>6.466667</td>\n",
              "    </tr>\n",
              "    <tr>\n",
              "      <th>2020-08-02</th>\n",
              "      <td>59</td>\n",
              "      <td>4.500000</td>\n",
              "      <td>4.5</td>\n",
              "      <td>25.752593</td>\n",
              "      <td>12.333333</td>\n",
              "    </tr>\n",
              "    <tr>\n",
              "      <th>2020-08-03</th>\n",
              "      <td>103</td>\n",
              "      <td>4.900000</td>\n",
              "      <td>5.0</td>\n",
              "      <td>27.674603</td>\n",
              "      <td>9.766667</td>\n",
              "    </tr>\n",
              "    <tr>\n",
              "      <th>2020-08-04</th>\n",
              "      <td>82</td>\n",
              "      <td>4.000000</td>\n",
              "      <td>4.5</td>\n",
              "      <td>28.561111</td>\n",
              "      <td>8.175000</td>\n",
              "    </tr>\n",
              "    <tr>\n",
              "      <th>2020-08-05</th>\n",
              "      <td>101</td>\n",
              "      <td>3.857143</td>\n",
              "      <td>4.0</td>\n",
              "      <td>11.982917</td>\n",
              "      <td>7.083333</td>\n",
              "    </tr>\n",
              "    <tr>\n",
              "      <th>...</th>\n",
              "      <td>...</td>\n",
              "      <td>...</td>\n",
              "      <td>...</td>\n",
              "      <td>...</td>\n",
              "      <td>...</td>\n",
              "    </tr>\n",
              "    <tr>\n",
              "      <th>2020-12-27</th>\n",
              "      <td>114</td>\n",
              "      <td>4.600000</td>\n",
              "      <td>5.0</td>\n",
              "      <td>110.054167</td>\n",
              "      <td>10.833333</td>\n",
              "    </tr>\n",
              "    <tr>\n",
              "      <th>2020-12-28</th>\n",
              "      <td>163</td>\n",
              "      <td>4.483871</td>\n",
              "      <td>5.0</td>\n",
              "      <td>186.036483</td>\n",
              "      <td>9.933333</td>\n",
              "    </tr>\n",
              "    <tr>\n",
              "      <th>2020-12-29</th>\n",
              "      <td>187</td>\n",
              "      <td>4.500000</td>\n",
              "      <td>5.0</td>\n",
              "      <td>91.885600</td>\n",
              "      <td>9.083333</td>\n",
              "    </tr>\n",
              "    <tr>\n",
              "      <th>2020-12-30</th>\n",
              "      <td>170</td>\n",
              "      <td>4.320000</td>\n",
              "      <td>5.0</td>\n",
              "      <td>129.150751</td>\n",
              "      <td>7.716667</td>\n",
              "    </tr>\n",
              "    <tr>\n",
              "      <th>2020-12-31</th>\n",
              "      <td>158</td>\n",
              "      <td>4.583333</td>\n",
              "      <td>5.0</td>\n",
              "      <td>119.946697</td>\n",
              "      <td>27.466667</td>\n",
              "    </tr>\n",
              "  </tbody>\n",
              "</table>\n",
              "<p>153 rows × 5 columns</p>\n",
              "</div>"
            ],
            "text/plain": [
              "           Conversation ID  ... Minutes to first reply\n",
              "                     count  ...                 median\n",
              "Date_only                   ...                       \n",
              "2020-08-01              63  ...               6.466667\n",
              "2020-08-02              59  ...              12.333333\n",
              "2020-08-03             103  ...               9.766667\n",
              "2020-08-04              82  ...               8.175000\n",
              "2020-08-05             101  ...               7.083333\n",
              "...                    ...  ...                    ...\n",
              "2020-12-27             114  ...              10.833333\n",
              "2020-12-28             163  ...               9.933333\n",
              "2020-12-29             187  ...               9.083333\n",
              "2020-12-30             170  ...               7.716667\n",
              "2020-12-31             158  ...              27.466667\n",
              "\n",
              "[153 rows x 5 columns]"
            ]
          },
          "metadata": {
            "tags": []
          },
          "execution_count": 23
        }
      ]
    },
    {
      "cell_type": "code",
      "metadata": {
        "id": "QtaoLmHUAfNo"
      },
      "source": [
        "pivot_by_date.columns = pivot_by_date.columns.droplevel()"
      ],
      "execution_count": 24,
      "outputs": []
    },
    {
      "cell_type": "code",
      "metadata": {
        "colab": {
          "base_uri": "https://localhost:8080/",
          "height": 436
        },
        "id": "OXxLYtTzA2lQ",
        "outputId": "de67c7ba-3ad4-4445-d9dd-b192a948b7fc"
      },
      "source": [
        "pivot_by_date"
      ],
      "execution_count": 25,
      "outputs": [
        {
          "output_type": "execute_result",
          "data": {
            "text/html": [
              "<div>\n",
              "<style scoped>\n",
              "    .dataframe tbody tr th:only-of-type {\n",
              "        vertical-align: middle;\n",
              "    }\n",
              "\n",
              "    .dataframe tbody tr th {\n",
              "        vertical-align: top;\n",
              "    }\n",
              "\n",
              "    .dataframe thead th {\n",
              "        text-align: right;\n",
              "    }\n",
              "</style>\n",
              "<table border=\"1\" class=\"dataframe\">\n",
              "  <thead>\n",
              "    <tr style=\"text-align: right;\">\n",
              "      <th></th>\n",
              "      <th>count</th>\n",
              "      <th>mean</th>\n",
              "      <th>median</th>\n",
              "      <th>mean</th>\n",
              "      <th>median</th>\n",
              "    </tr>\n",
              "    <tr>\n",
              "      <th>Date_only</th>\n",
              "      <th></th>\n",
              "      <th></th>\n",
              "      <th></th>\n",
              "      <th></th>\n",
              "      <th></th>\n",
              "    </tr>\n",
              "  </thead>\n",
              "  <tbody>\n",
              "    <tr>\n",
              "      <th>2020-08-01</th>\n",
              "      <td>63</td>\n",
              "      <td>4.444444</td>\n",
              "      <td>5.0</td>\n",
              "      <td>29.154333</td>\n",
              "      <td>6.466667</td>\n",
              "    </tr>\n",
              "    <tr>\n",
              "      <th>2020-08-02</th>\n",
              "      <td>59</td>\n",
              "      <td>4.500000</td>\n",
              "      <td>4.5</td>\n",
              "      <td>25.752593</td>\n",
              "      <td>12.333333</td>\n",
              "    </tr>\n",
              "    <tr>\n",
              "      <th>2020-08-03</th>\n",
              "      <td>103</td>\n",
              "      <td>4.900000</td>\n",
              "      <td>5.0</td>\n",
              "      <td>27.674603</td>\n",
              "      <td>9.766667</td>\n",
              "    </tr>\n",
              "    <tr>\n",
              "      <th>2020-08-04</th>\n",
              "      <td>82</td>\n",
              "      <td>4.000000</td>\n",
              "      <td>4.5</td>\n",
              "      <td>28.561111</td>\n",
              "      <td>8.175000</td>\n",
              "    </tr>\n",
              "    <tr>\n",
              "      <th>2020-08-05</th>\n",
              "      <td>101</td>\n",
              "      <td>3.857143</td>\n",
              "      <td>4.0</td>\n",
              "      <td>11.982917</td>\n",
              "      <td>7.083333</td>\n",
              "    </tr>\n",
              "    <tr>\n",
              "      <th>...</th>\n",
              "      <td>...</td>\n",
              "      <td>...</td>\n",
              "      <td>...</td>\n",
              "      <td>...</td>\n",
              "      <td>...</td>\n",
              "    </tr>\n",
              "    <tr>\n",
              "      <th>2020-12-27</th>\n",
              "      <td>114</td>\n",
              "      <td>4.600000</td>\n",
              "      <td>5.0</td>\n",
              "      <td>110.054167</td>\n",
              "      <td>10.833333</td>\n",
              "    </tr>\n",
              "    <tr>\n",
              "      <th>2020-12-28</th>\n",
              "      <td>163</td>\n",
              "      <td>4.483871</td>\n",
              "      <td>5.0</td>\n",
              "      <td>186.036483</td>\n",
              "      <td>9.933333</td>\n",
              "    </tr>\n",
              "    <tr>\n",
              "      <th>2020-12-29</th>\n",
              "      <td>187</td>\n",
              "      <td>4.500000</td>\n",
              "      <td>5.0</td>\n",
              "      <td>91.885600</td>\n",
              "      <td>9.083333</td>\n",
              "    </tr>\n",
              "    <tr>\n",
              "      <th>2020-12-30</th>\n",
              "      <td>170</td>\n",
              "      <td>4.320000</td>\n",
              "      <td>5.0</td>\n",
              "      <td>129.150751</td>\n",
              "      <td>7.716667</td>\n",
              "    </tr>\n",
              "    <tr>\n",
              "      <th>2020-12-31</th>\n",
              "      <td>158</td>\n",
              "      <td>4.583333</td>\n",
              "      <td>5.0</td>\n",
              "      <td>119.946697</td>\n",
              "      <td>27.466667</td>\n",
              "    </tr>\n",
              "  </tbody>\n",
              "</table>\n",
              "<p>153 rows × 5 columns</p>\n",
              "</div>"
            ],
            "text/plain": [
              "            count      mean  median        mean     median\n",
              "Date_only                                                 \n",
              "2020-08-01     63  4.444444     5.0   29.154333   6.466667\n",
              "2020-08-02     59  4.500000     4.5   25.752593  12.333333\n",
              "2020-08-03    103  4.900000     5.0   27.674603   9.766667\n",
              "2020-08-04     82  4.000000     4.5   28.561111   8.175000\n",
              "2020-08-05    101  3.857143     4.0   11.982917   7.083333\n",
              "...           ...       ...     ...         ...        ...\n",
              "2020-12-27    114  4.600000     5.0  110.054167  10.833333\n",
              "2020-12-28    163  4.483871     5.0  186.036483   9.933333\n",
              "2020-12-29    187  4.500000     5.0   91.885600   9.083333\n",
              "2020-12-30    170  4.320000     5.0  129.150751   7.716667\n",
              "2020-12-31    158  4.583333     5.0  119.946697  27.466667\n",
              "\n",
              "[153 rows x 5 columns]"
            ]
          },
          "metadata": {
            "tags": []
          },
          "execution_count": 25
        }
      ]
    },
    {
      "cell_type": "code",
      "metadata": {
        "id": "4nyFyGWYAz0W"
      },
      "source": [
        "pivot_by_date.columns= ['Num_of_chats', 'Rating_mean', 'Rating_median', 'FRT_mean', 'FRT_median']\n",
        "pivot_by_date = pivot_by_date.reset_index()"
      ],
      "execution_count": 26,
      "outputs": []
    },
    {
      "cell_type": "code",
      "metadata": {
        "id": "m8WfzUe7A94b"
      },
      "source": [
        "pivot_by_date['Date_only'] = pd.to_datetime(pivot_by_date['Date_only'])"
      ],
      "execution_count": 27,
      "outputs": []
    },
    {
      "cell_type": "code",
      "metadata": {
        "colab": {
          "base_uri": "https://localhost:8080/",
          "height": 406
        },
        "id": "2l0UGRtzAkQF",
        "outputId": "8bae744c-b8be-4897-d51b-f093e6397eaf"
      },
      "source": [
        "# смерджим с таблицей с количеством агентов поддержки на смене\n",
        "pivot_by_date = pivot_by_date.merge(Aug_dec, how='inner', on='Date_only')\n",
        "pivot_by_date"
      ],
      "execution_count": 28,
      "outputs": [
        {
          "output_type": "execute_result",
          "data": {
            "text/html": [
              "<div>\n",
              "<style scoped>\n",
              "    .dataframe tbody tr th:only-of-type {\n",
              "        vertical-align: middle;\n",
              "    }\n",
              "\n",
              "    .dataframe tbody tr th {\n",
              "        vertical-align: top;\n",
              "    }\n",
              "\n",
              "    .dataframe thead th {\n",
              "        text-align: right;\n",
              "    }\n",
              "</style>\n",
              "<table border=\"1\" class=\"dataframe\">\n",
              "  <thead>\n",
              "    <tr style=\"text-align: right;\">\n",
              "      <th></th>\n",
              "      <th>Date_only</th>\n",
              "      <th>Num_of_chats</th>\n",
              "      <th>Rating_mean</th>\n",
              "      <th>Rating_median</th>\n",
              "      <th>FRT_mean</th>\n",
              "      <th>FRT_median</th>\n",
              "      <th>Morning</th>\n",
              "      <th>Evening</th>\n",
              "    </tr>\n",
              "  </thead>\n",
              "  <tbody>\n",
              "    <tr>\n",
              "      <th>0</th>\n",
              "      <td>2020-08-01</td>\n",
              "      <td>63</td>\n",
              "      <td>4.444444</td>\n",
              "      <td>5.0</td>\n",
              "      <td>29.154333</td>\n",
              "      <td>6.466667</td>\n",
              "      <td>2</td>\n",
              "      <td>0</td>\n",
              "    </tr>\n",
              "    <tr>\n",
              "      <th>1</th>\n",
              "      <td>2020-08-02</td>\n",
              "      <td>59</td>\n",
              "      <td>4.500000</td>\n",
              "      <td>4.5</td>\n",
              "      <td>25.752593</td>\n",
              "      <td>12.333333</td>\n",
              "      <td>3</td>\n",
              "      <td>0</td>\n",
              "    </tr>\n",
              "    <tr>\n",
              "      <th>2</th>\n",
              "      <td>2020-08-03</td>\n",
              "      <td>103</td>\n",
              "      <td>4.900000</td>\n",
              "      <td>5.0</td>\n",
              "      <td>27.674603</td>\n",
              "      <td>9.766667</td>\n",
              "      <td>6</td>\n",
              "      <td>4</td>\n",
              "    </tr>\n",
              "    <tr>\n",
              "      <th>3</th>\n",
              "      <td>2020-08-04</td>\n",
              "      <td>82</td>\n",
              "      <td>4.000000</td>\n",
              "      <td>4.5</td>\n",
              "      <td>28.561111</td>\n",
              "      <td>8.175000</td>\n",
              "      <td>6</td>\n",
              "      <td>4</td>\n",
              "    </tr>\n",
              "    <tr>\n",
              "      <th>4</th>\n",
              "      <td>2020-08-05</td>\n",
              "      <td>101</td>\n",
              "      <td>3.857143</td>\n",
              "      <td>4.0</td>\n",
              "      <td>11.982917</td>\n",
              "      <td>7.083333</td>\n",
              "      <td>4</td>\n",
              "      <td>4</td>\n",
              "    </tr>\n",
              "    <tr>\n",
              "      <th>...</th>\n",
              "      <td>...</td>\n",
              "      <td>...</td>\n",
              "      <td>...</td>\n",
              "      <td>...</td>\n",
              "      <td>...</td>\n",
              "      <td>...</td>\n",
              "      <td>...</td>\n",
              "      <td>...</td>\n",
              "    </tr>\n",
              "    <tr>\n",
              "      <th>148</th>\n",
              "      <td>2020-12-27</td>\n",
              "      <td>114</td>\n",
              "      <td>4.600000</td>\n",
              "      <td>5.0</td>\n",
              "      <td>110.054167</td>\n",
              "      <td>10.833333</td>\n",
              "      <td>5</td>\n",
              "      <td>0</td>\n",
              "    </tr>\n",
              "    <tr>\n",
              "      <th>149</th>\n",
              "      <td>2020-12-28</td>\n",
              "      <td>163</td>\n",
              "      <td>4.483871</td>\n",
              "      <td>5.0</td>\n",
              "      <td>186.036483</td>\n",
              "      <td>9.933333</td>\n",
              "      <td>3</td>\n",
              "      <td>2</td>\n",
              "    </tr>\n",
              "    <tr>\n",
              "      <th>150</th>\n",
              "      <td>2020-12-29</td>\n",
              "      <td>187</td>\n",
              "      <td>4.500000</td>\n",
              "      <td>5.0</td>\n",
              "      <td>91.885600</td>\n",
              "      <td>9.083333</td>\n",
              "      <td>5</td>\n",
              "      <td>3</td>\n",
              "    </tr>\n",
              "    <tr>\n",
              "      <th>151</th>\n",
              "      <td>2020-12-30</td>\n",
              "      <td>170</td>\n",
              "      <td>4.320000</td>\n",
              "      <td>5.0</td>\n",
              "      <td>129.150751</td>\n",
              "      <td>7.716667</td>\n",
              "      <td>5</td>\n",
              "      <td>1</td>\n",
              "    </tr>\n",
              "    <tr>\n",
              "      <th>152</th>\n",
              "      <td>2020-12-31</td>\n",
              "      <td>158</td>\n",
              "      <td>4.583333</td>\n",
              "      <td>5.0</td>\n",
              "      <td>119.946697</td>\n",
              "      <td>27.466667</td>\n",
              "      <td>4</td>\n",
              "      <td>0</td>\n",
              "    </tr>\n",
              "  </tbody>\n",
              "</table>\n",
              "<p>153 rows × 8 columns</p>\n",
              "</div>"
            ],
            "text/plain": [
              "     Date_only  Num_of_chats  Rating_mean  ...  FRT_median  Morning  Evening\n",
              "0   2020-08-01            63     4.444444  ...    6.466667        2        0\n",
              "1   2020-08-02            59     4.500000  ...   12.333333        3        0\n",
              "2   2020-08-03           103     4.900000  ...    9.766667        6        4\n",
              "3   2020-08-04            82     4.000000  ...    8.175000        6        4\n",
              "4   2020-08-05           101     3.857143  ...    7.083333        4        4\n",
              "..         ...           ...          ...  ...         ...      ...      ...\n",
              "148 2020-12-27           114     4.600000  ...   10.833333        5        0\n",
              "149 2020-12-28           163     4.483871  ...    9.933333        3        2\n",
              "150 2020-12-29           187     4.500000  ...    9.083333        5        3\n",
              "151 2020-12-30           170     4.320000  ...    7.716667        5        1\n",
              "152 2020-12-31           158     4.583333  ...   27.466667        4        0\n",
              "\n",
              "[153 rows x 8 columns]"
            ]
          },
          "metadata": {
            "tags": []
          },
          "execution_count": 28
        }
      ]
    },
    {
      "cell_type": "code",
      "metadata": {
        "colab": {
          "base_uri": "https://localhost:8080/",
          "height": 406
        },
        "id": "wMyODQ8zBEzL",
        "outputId": "a516b841-c941-4ba1-9126-a0f9cf41cb74"
      },
      "source": [
        "# выгрузим таблицу с активными клиентами с августа по декабрь\n",
        "transactions_aug_dec = transactions_2020[transactions_2020['Created_at_month'] > 7]\n",
        "transactions_aug_dec"
      ],
      "execution_count": 29,
      "outputs": [
        {
          "output_type": "execute_result",
          "data": {
            "text/html": [
              "<div>\n",
              "<style scoped>\n",
              "    .dataframe tbody tr th:only-of-type {\n",
              "        vertical-align: middle;\n",
              "    }\n",
              "\n",
              "    .dataframe tbody tr th {\n",
              "        vertical-align: top;\n",
              "    }\n",
              "\n",
              "    .dataframe thead th {\n",
              "        text-align: right;\n",
              "    }\n",
              "</style>\n",
              "<table border=\"1\" class=\"dataframe\">\n",
              "  <thead>\n",
              "    <tr style=\"text-align: right;\">\n",
              "      <th></th>\n",
              "      <th>User ID</th>\n",
              "      <th>created_at</th>\n",
              "      <th>reference_type</th>\n",
              "      <th>Created_at_month</th>\n",
              "      <th>Created_at_week</th>\n",
              "      <th>day_num</th>\n",
              "      <th>Created_at_fifth</th>\n",
              "      <th>Created_at_day</th>\n",
              "    </tr>\n",
              "  </thead>\n",
              "  <tbody>\n",
              "    <tr>\n",
              "      <th>0</th>\n",
              "      <td>825332</td>\n",
              "      <td>2020-12-31 23:58:01.447844</td>\n",
              "      <td>CoinDeposit</td>\n",
              "      <td>12</td>\n",
              "      <td>53</td>\n",
              "      <td>366</td>\n",
              "      <td>26</td>\n",
              "      <td>366</td>\n",
              "    </tr>\n",
              "    <tr>\n",
              "      <th>1</th>\n",
              "      <td>775239</td>\n",
              "      <td>2020-12-31 23:50:02.474147</td>\n",
              "      <td>CoinDeposit</td>\n",
              "      <td>12</td>\n",
              "      <td>53</td>\n",
              "      <td>366</td>\n",
              "      <td>26</td>\n",
              "      <td>366</td>\n",
              "    </tr>\n",
              "    <tr>\n",
              "      <th>2</th>\n",
              "      <td>460300</td>\n",
              "      <td>2020-12-31 23:48:45.844693</td>\n",
              "      <td>CoinDeposit</td>\n",
              "      <td>12</td>\n",
              "      <td>53</td>\n",
              "      <td>366</td>\n",
              "      <td>26</td>\n",
              "      <td>366</td>\n",
              "    </tr>\n",
              "    <tr>\n",
              "      <th>3</th>\n",
              "      <td>709924</td>\n",
              "      <td>2020-12-31 23:48:18.293100</td>\n",
              "      <td>CoinWithdrawal</td>\n",
              "      <td>12</td>\n",
              "      <td>53</td>\n",
              "      <td>366</td>\n",
              "      <td>26</td>\n",
              "      <td>366</td>\n",
              "    </tr>\n",
              "    <tr>\n",
              "      <th>4</th>\n",
              "      <td>825332</td>\n",
              "      <td>2020-12-31 23:48:01.497127</td>\n",
              "      <td>CoinDeposit</td>\n",
              "      <td>12</td>\n",
              "      <td>53</td>\n",
              "      <td>366</td>\n",
              "      <td>26</td>\n",
              "      <td>366</td>\n",
              "    </tr>\n",
              "    <tr>\n",
              "      <th>...</th>\n",
              "      <td>...</td>\n",
              "      <td>...</td>\n",
              "      <td>...</td>\n",
              "      <td>...</td>\n",
              "      <td>...</td>\n",
              "      <td>...</td>\n",
              "      <td>...</td>\n",
              "      <td>...</td>\n",
              "    </tr>\n",
              "    <tr>\n",
              "      <th>115128</th>\n",
              "      <td>799363</td>\n",
              "      <td>2020-08-16 01:09:06.341664</td>\n",
              "      <td>CoinWithdrawal</td>\n",
              "      <td>8</td>\n",
              "      <td>33</td>\n",
              "      <td>229</td>\n",
              "      <td>2</td>\n",
              "      <td>229</td>\n",
              "    </tr>\n",
              "    <tr>\n",
              "      <th>115129</th>\n",
              "      <td>799363</td>\n",
              "      <td>2020-08-16 01:08:00.378587</td>\n",
              "      <td>CardDeposit</td>\n",
              "      <td>8</td>\n",
              "      <td>33</td>\n",
              "      <td>229</td>\n",
              "      <td>2</td>\n",
              "      <td>229</td>\n",
              "    </tr>\n",
              "    <tr>\n",
              "      <th>115130</th>\n",
              "      <td>342927</td>\n",
              "      <td>2020-08-16 01:07:51.063378</td>\n",
              "      <td>CoinDeposit</td>\n",
              "      <td>8</td>\n",
              "      <td>33</td>\n",
              "      <td>229</td>\n",
              "      <td>2</td>\n",
              "      <td>229</td>\n",
              "    </tr>\n",
              "    <tr>\n",
              "      <th>115131</th>\n",
              "      <td>652216</td>\n",
              "      <td>2020-08-16 00:50:03.764868</td>\n",
              "      <td>CoinDeposit</td>\n",
              "      <td>8</td>\n",
              "      <td>33</td>\n",
              "      <td>229</td>\n",
              "      <td>2</td>\n",
              "      <td>229</td>\n",
              "    </tr>\n",
              "    <tr>\n",
              "      <th>115132</th>\n",
              "      <td>784307</td>\n",
              "      <td>2020-08-16 00:50:03.286012</td>\n",
              "      <td>CoinDeposit</td>\n",
              "      <td>8</td>\n",
              "      <td>33</td>\n",
              "      <td>229</td>\n",
              "      <td>2</td>\n",
              "      <td>229</td>\n",
              "    </tr>\n",
              "  </tbody>\n",
              "</table>\n",
              "<p>115133 rows × 8 columns</p>\n",
              "</div>"
            ],
            "text/plain": [
              "        User ID                 created_at  ... Created_at_fifth  Created_at_day\n",
              "0        825332 2020-12-31 23:58:01.447844  ...               26             366\n",
              "1        775239 2020-12-31 23:50:02.474147  ...               26             366\n",
              "2        460300 2020-12-31 23:48:45.844693  ...               26             366\n",
              "3        709924 2020-12-31 23:48:18.293100  ...               26             366\n",
              "4        825332 2020-12-31 23:48:01.497127  ...               26             366\n",
              "...         ...                        ...  ...              ...             ...\n",
              "115128   799363 2020-08-16 01:09:06.341664  ...                2             229\n",
              "115129   799363 2020-08-16 01:08:00.378587  ...                2             229\n",
              "115130   342927 2020-08-16 01:07:51.063378  ...                2             229\n",
              "115131   652216 2020-08-16 00:50:03.764868  ...                2             229\n",
              "115132   784307 2020-08-16 00:50:03.286012  ...                2             229\n",
              "\n",
              "[115133 rows x 8 columns]"
            ]
          },
          "metadata": {
            "tags": []
          },
          "execution_count": 29
        }
      ]
    },
    {
      "cell_type": "code",
      "metadata": {
        "id": "4ZrBZEtNBd6F",
        "colab": {
          "base_uri": "https://localhost:8080/",
          "height": 406
        },
        "outputId": "16e11498-13ed-42b8-f559-2e0d85cb90da"
      },
      "source": [
        "transactions_aug_dec['Date_only'] = transactions_aug_dec['created_at'].dt.date\n",
        "transactions_aug_dec"
      ],
      "execution_count": 30,
      "outputs": [
        {
          "output_type": "execute_result",
          "data": {
            "text/html": [
              "<div>\n",
              "<style scoped>\n",
              "    .dataframe tbody tr th:only-of-type {\n",
              "        vertical-align: middle;\n",
              "    }\n",
              "\n",
              "    .dataframe tbody tr th {\n",
              "        vertical-align: top;\n",
              "    }\n",
              "\n",
              "    .dataframe thead th {\n",
              "        text-align: right;\n",
              "    }\n",
              "</style>\n",
              "<table border=\"1\" class=\"dataframe\">\n",
              "  <thead>\n",
              "    <tr style=\"text-align: right;\">\n",
              "      <th></th>\n",
              "      <th>User ID</th>\n",
              "      <th>created_at</th>\n",
              "      <th>reference_type</th>\n",
              "      <th>Created_at_month</th>\n",
              "      <th>Created_at_week</th>\n",
              "      <th>day_num</th>\n",
              "      <th>Created_at_fifth</th>\n",
              "      <th>Created_at_day</th>\n",
              "      <th>Date_only</th>\n",
              "    </tr>\n",
              "  </thead>\n",
              "  <tbody>\n",
              "    <tr>\n",
              "      <th>0</th>\n",
              "      <td>825332</td>\n",
              "      <td>2020-12-31 23:58:01.447844</td>\n",
              "      <td>CoinDeposit</td>\n",
              "      <td>12</td>\n",
              "      <td>53</td>\n",
              "      <td>366</td>\n",
              "      <td>26</td>\n",
              "      <td>366</td>\n",
              "      <td>2020-12-31</td>\n",
              "    </tr>\n",
              "    <tr>\n",
              "      <th>1</th>\n",
              "      <td>775239</td>\n",
              "      <td>2020-12-31 23:50:02.474147</td>\n",
              "      <td>CoinDeposit</td>\n",
              "      <td>12</td>\n",
              "      <td>53</td>\n",
              "      <td>366</td>\n",
              "      <td>26</td>\n",
              "      <td>366</td>\n",
              "      <td>2020-12-31</td>\n",
              "    </tr>\n",
              "    <tr>\n",
              "      <th>2</th>\n",
              "      <td>460300</td>\n",
              "      <td>2020-12-31 23:48:45.844693</td>\n",
              "      <td>CoinDeposit</td>\n",
              "      <td>12</td>\n",
              "      <td>53</td>\n",
              "      <td>366</td>\n",
              "      <td>26</td>\n",
              "      <td>366</td>\n",
              "      <td>2020-12-31</td>\n",
              "    </tr>\n",
              "    <tr>\n",
              "      <th>3</th>\n",
              "      <td>709924</td>\n",
              "      <td>2020-12-31 23:48:18.293100</td>\n",
              "      <td>CoinWithdrawal</td>\n",
              "      <td>12</td>\n",
              "      <td>53</td>\n",
              "      <td>366</td>\n",
              "      <td>26</td>\n",
              "      <td>366</td>\n",
              "      <td>2020-12-31</td>\n",
              "    </tr>\n",
              "    <tr>\n",
              "      <th>4</th>\n",
              "      <td>825332</td>\n",
              "      <td>2020-12-31 23:48:01.497127</td>\n",
              "      <td>CoinDeposit</td>\n",
              "      <td>12</td>\n",
              "      <td>53</td>\n",
              "      <td>366</td>\n",
              "      <td>26</td>\n",
              "      <td>366</td>\n",
              "      <td>2020-12-31</td>\n",
              "    </tr>\n",
              "    <tr>\n",
              "      <th>...</th>\n",
              "      <td>...</td>\n",
              "      <td>...</td>\n",
              "      <td>...</td>\n",
              "      <td>...</td>\n",
              "      <td>...</td>\n",
              "      <td>...</td>\n",
              "      <td>...</td>\n",
              "      <td>...</td>\n",
              "      <td>...</td>\n",
              "    </tr>\n",
              "    <tr>\n",
              "      <th>115128</th>\n",
              "      <td>799363</td>\n",
              "      <td>2020-08-16 01:09:06.341664</td>\n",
              "      <td>CoinWithdrawal</td>\n",
              "      <td>8</td>\n",
              "      <td>33</td>\n",
              "      <td>229</td>\n",
              "      <td>2</td>\n",
              "      <td>229</td>\n",
              "      <td>2020-08-16</td>\n",
              "    </tr>\n",
              "    <tr>\n",
              "      <th>115129</th>\n",
              "      <td>799363</td>\n",
              "      <td>2020-08-16 01:08:00.378587</td>\n",
              "      <td>CardDeposit</td>\n",
              "      <td>8</td>\n",
              "      <td>33</td>\n",
              "      <td>229</td>\n",
              "      <td>2</td>\n",
              "      <td>229</td>\n",
              "      <td>2020-08-16</td>\n",
              "    </tr>\n",
              "    <tr>\n",
              "      <th>115130</th>\n",
              "      <td>342927</td>\n",
              "      <td>2020-08-16 01:07:51.063378</td>\n",
              "      <td>CoinDeposit</td>\n",
              "      <td>8</td>\n",
              "      <td>33</td>\n",
              "      <td>229</td>\n",
              "      <td>2</td>\n",
              "      <td>229</td>\n",
              "      <td>2020-08-16</td>\n",
              "    </tr>\n",
              "    <tr>\n",
              "      <th>115131</th>\n",
              "      <td>652216</td>\n",
              "      <td>2020-08-16 00:50:03.764868</td>\n",
              "      <td>CoinDeposit</td>\n",
              "      <td>8</td>\n",
              "      <td>33</td>\n",
              "      <td>229</td>\n",
              "      <td>2</td>\n",
              "      <td>229</td>\n",
              "      <td>2020-08-16</td>\n",
              "    </tr>\n",
              "    <tr>\n",
              "      <th>115132</th>\n",
              "      <td>784307</td>\n",
              "      <td>2020-08-16 00:50:03.286012</td>\n",
              "      <td>CoinDeposit</td>\n",
              "      <td>8</td>\n",
              "      <td>33</td>\n",
              "      <td>229</td>\n",
              "      <td>2</td>\n",
              "      <td>229</td>\n",
              "      <td>2020-08-16</td>\n",
              "    </tr>\n",
              "  </tbody>\n",
              "</table>\n",
              "<p>115133 rows × 9 columns</p>\n",
              "</div>"
            ],
            "text/plain": [
              "        User ID                 created_at  ... Created_at_day   Date_only\n",
              "0        825332 2020-12-31 23:58:01.447844  ...            366  2020-12-31\n",
              "1        775239 2020-12-31 23:50:02.474147  ...            366  2020-12-31\n",
              "2        460300 2020-12-31 23:48:45.844693  ...            366  2020-12-31\n",
              "3        709924 2020-12-31 23:48:18.293100  ...            366  2020-12-31\n",
              "4        825332 2020-12-31 23:48:01.497127  ...            366  2020-12-31\n",
              "...         ...                        ...  ...            ...         ...\n",
              "115128   799363 2020-08-16 01:09:06.341664  ...            229  2020-08-16\n",
              "115129   799363 2020-08-16 01:08:00.378587  ...            229  2020-08-16\n",
              "115130   342927 2020-08-16 01:07:51.063378  ...            229  2020-08-16\n",
              "115131   652216 2020-08-16 00:50:03.764868  ...            229  2020-08-16\n",
              "115132   784307 2020-08-16 00:50:03.286012  ...            229  2020-08-16\n",
              "\n",
              "[115133 rows x 9 columns]"
            ]
          },
          "metadata": {
            "tags": []
          },
          "execution_count": 30
        }
      ]
    },
    {
      "cell_type": "code",
      "metadata": {
        "id": "D_Snpy02BrR8",
        "colab": {
          "base_uri": "https://localhost:8080/",
          "height": 406
        },
        "outputId": "61bc025f-4859-43a8-f980-d81deaefba47"
      },
      "source": [
        "#создадим таблицу с количеством активных клиентов по дням\n",
        "pivot_active = transactions_aug_dec.pivot_table(index='Date_only', values='User ID', aggfunc='nunique')\n",
        "pivot_active = pivot_active.reset_index()\n",
        "pivot_active"
      ],
      "execution_count": 31,
      "outputs": [
        {
          "output_type": "execute_result",
          "data": {
            "text/html": [
              "<div>\n",
              "<style scoped>\n",
              "    .dataframe tbody tr th:only-of-type {\n",
              "        vertical-align: middle;\n",
              "    }\n",
              "\n",
              "    .dataframe tbody tr th {\n",
              "        vertical-align: top;\n",
              "    }\n",
              "\n",
              "    .dataframe thead th {\n",
              "        text-align: right;\n",
              "    }\n",
              "</style>\n",
              "<table border=\"1\" class=\"dataframe\">\n",
              "  <thead>\n",
              "    <tr style=\"text-align: right;\">\n",
              "      <th></th>\n",
              "      <th>Date_only</th>\n",
              "      <th>User ID</th>\n",
              "    </tr>\n",
              "  </thead>\n",
              "  <tbody>\n",
              "    <tr>\n",
              "      <th>0</th>\n",
              "      <td>2020-08-16</td>\n",
              "      <td>247</td>\n",
              "    </tr>\n",
              "    <tr>\n",
              "      <th>1</th>\n",
              "      <td>2020-08-17</td>\n",
              "      <td>340</td>\n",
              "    </tr>\n",
              "    <tr>\n",
              "      <th>2</th>\n",
              "      <td>2020-08-18</td>\n",
              "      <td>320</td>\n",
              "    </tr>\n",
              "    <tr>\n",
              "      <th>3</th>\n",
              "      <td>2020-08-19</td>\n",
              "      <td>376</td>\n",
              "    </tr>\n",
              "    <tr>\n",
              "      <th>4</th>\n",
              "      <td>2020-08-20</td>\n",
              "      <td>339</td>\n",
              "    </tr>\n",
              "    <tr>\n",
              "      <th>...</th>\n",
              "      <td>...</td>\n",
              "      <td>...</td>\n",
              "    </tr>\n",
              "    <tr>\n",
              "      <th>133</th>\n",
              "      <td>2020-12-27</td>\n",
              "      <td>524</td>\n",
              "    </tr>\n",
              "    <tr>\n",
              "      <th>134</th>\n",
              "      <td>2020-12-28</td>\n",
              "      <td>480</td>\n",
              "    </tr>\n",
              "    <tr>\n",
              "      <th>135</th>\n",
              "      <td>2020-12-29</td>\n",
              "      <td>542</td>\n",
              "    </tr>\n",
              "    <tr>\n",
              "      <th>136</th>\n",
              "      <td>2020-12-30</td>\n",
              "      <td>508</td>\n",
              "    </tr>\n",
              "    <tr>\n",
              "      <th>137</th>\n",
              "      <td>2020-12-31</td>\n",
              "      <td>462</td>\n",
              "    </tr>\n",
              "  </tbody>\n",
              "</table>\n",
              "<p>138 rows × 2 columns</p>\n",
              "</div>"
            ],
            "text/plain": [
              "      Date_only  User ID\n",
              "0    2020-08-16      247\n",
              "1    2020-08-17      340\n",
              "2    2020-08-18      320\n",
              "3    2020-08-19      376\n",
              "4    2020-08-20      339\n",
              "..          ...      ...\n",
              "133  2020-12-27      524\n",
              "134  2020-12-28      480\n",
              "135  2020-12-29      542\n",
              "136  2020-12-30      508\n",
              "137  2020-12-31      462\n",
              "\n",
              "[138 rows x 2 columns]"
            ]
          },
          "metadata": {
            "tags": []
          },
          "execution_count": 31
        }
      ]
    },
    {
      "cell_type": "code",
      "metadata": {
        "id": "DYUlD62UB1FB"
      },
      "source": [
        "pivot_active['Date_only'] = pd.to_datetime(pivot_active['Date_only'])"
      ],
      "execution_count": 32,
      "outputs": []
    },
    {
      "cell_type": "code",
      "metadata": {
        "id": "Sg6WW5stB6e-",
        "colab": {
          "base_uri": "https://localhost:8080/",
          "height": 406
        },
        "outputId": "5f8fe2f0-8341-446e-91ec-da27bbb74b2f"
      },
      "source": [
        "# Объеденим ее с основной сводной таблицей\n",
        "final_by_date = pivot_by_date.merge(pivot_active, how='inner', on='Date_only')\n",
        "final_by_date"
      ],
      "execution_count": 33,
      "outputs": [
        {
          "output_type": "execute_result",
          "data": {
            "text/html": [
              "<div>\n",
              "<style scoped>\n",
              "    .dataframe tbody tr th:only-of-type {\n",
              "        vertical-align: middle;\n",
              "    }\n",
              "\n",
              "    .dataframe tbody tr th {\n",
              "        vertical-align: top;\n",
              "    }\n",
              "\n",
              "    .dataframe thead th {\n",
              "        text-align: right;\n",
              "    }\n",
              "</style>\n",
              "<table border=\"1\" class=\"dataframe\">\n",
              "  <thead>\n",
              "    <tr style=\"text-align: right;\">\n",
              "      <th></th>\n",
              "      <th>Date_only</th>\n",
              "      <th>Num_of_chats</th>\n",
              "      <th>Rating_mean</th>\n",
              "      <th>Rating_median</th>\n",
              "      <th>FRT_mean</th>\n",
              "      <th>FRT_median</th>\n",
              "      <th>Morning</th>\n",
              "      <th>Evening</th>\n",
              "      <th>User ID</th>\n",
              "    </tr>\n",
              "  </thead>\n",
              "  <tbody>\n",
              "    <tr>\n",
              "      <th>0</th>\n",
              "      <td>2020-08-16</td>\n",
              "      <td>63</td>\n",
              "      <td>5.000000</td>\n",
              "      <td>5.0</td>\n",
              "      <td>16.419811</td>\n",
              "      <td>10.333333</td>\n",
              "      <td>3</td>\n",
              "      <td>0</td>\n",
              "      <td>247</td>\n",
              "    </tr>\n",
              "    <tr>\n",
              "      <th>1</th>\n",
              "      <td>2020-08-17</td>\n",
              "      <td>98</td>\n",
              "      <td>4.588235</td>\n",
              "      <td>5.0</td>\n",
              "      <td>18.567671</td>\n",
              "      <td>7.333333</td>\n",
              "      <td>5</td>\n",
              "      <td>4</td>\n",
              "      <td>340</td>\n",
              "    </tr>\n",
              "    <tr>\n",
              "      <th>2</th>\n",
              "      <td>2020-08-18</td>\n",
              "      <td>97</td>\n",
              "      <td>4.750000</td>\n",
              "      <td>5.0</td>\n",
              "      <td>79.650192</td>\n",
              "      <td>9.033333</td>\n",
              "      <td>5</td>\n",
              "      <td>3</td>\n",
              "      <td>320</td>\n",
              "    </tr>\n",
              "    <tr>\n",
              "      <th>3</th>\n",
              "      <td>2020-08-19</td>\n",
              "      <td>195</td>\n",
              "      <td>4.379310</td>\n",
              "      <td>5.0</td>\n",
              "      <td>22.696391</td>\n",
              "      <td>9.633333</td>\n",
              "      <td>6</td>\n",
              "      <td>3</td>\n",
              "      <td>376</td>\n",
              "    </tr>\n",
              "    <tr>\n",
              "      <th>4</th>\n",
              "      <td>2020-08-20</td>\n",
              "      <td>154</td>\n",
              "      <td>4.130435</td>\n",
              "      <td>4.0</td>\n",
              "      <td>487.110267</td>\n",
              "      <td>7.550000</td>\n",
              "      <td>6</td>\n",
              "      <td>3</td>\n",
              "      <td>339</td>\n",
              "    </tr>\n",
              "    <tr>\n",
              "      <th>...</th>\n",
              "      <td>...</td>\n",
              "      <td>...</td>\n",
              "      <td>...</td>\n",
              "      <td>...</td>\n",
              "      <td>...</td>\n",
              "      <td>...</td>\n",
              "      <td>...</td>\n",
              "      <td>...</td>\n",
              "      <td>...</td>\n",
              "    </tr>\n",
              "    <tr>\n",
              "      <th>133</th>\n",
              "      <td>2020-12-27</td>\n",
              "      <td>114</td>\n",
              "      <td>4.600000</td>\n",
              "      <td>5.0</td>\n",
              "      <td>110.054167</td>\n",
              "      <td>10.833333</td>\n",
              "      <td>5</td>\n",
              "      <td>0</td>\n",
              "      <td>524</td>\n",
              "    </tr>\n",
              "    <tr>\n",
              "      <th>134</th>\n",
              "      <td>2020-12-28</td>\n",
              "      <td>163</td>\n",
              "      <td>4.483871</td>\n",
              "      <td>5.0</td>\n",
              "      <td>186.036483</td>\n",
              "      <td>9.933333</td>\n",
              "      <td>3</td>\n",
              "      <td>2</td>\n",
              "      <td>480</td>\n",
              "    </tr>\n",
              "    <tr>\n",
              "      <th>135</th>\n",
              "      <td>2020-12-29</td>\n",
              "      <td>187</td>\n",
              "      <td>4.500000</td>\n",
              "      <td>5.0</td>\n",
              "      <td>91.885600</td>\n",
              "      <td>9.083333</td>\n",
              "      <td>5</td>\n",
              "      <td>3</td>\n",
              "      <td>542</td>\n",
              "    </tr>\n",
              "    <tr>\n",
              "      <th>136</th>\n",
              "      <td>2020-12-30</td>\n",
              "      <td>170</td>\n",
              "      <td>4.320000</td>\n",
              "      <td>5.0</td>\n",
              "      <td>129.150751</td>\n",
              "      <td>7.716667</td>\n",
              "      <td>5</td>\n",
              "      <td>1</td>\n",
              "      <td>508</td>\n",
              "    </tr>\n",
              "    <tr>\n",
              "      <th>137</th>\n",
              "      <td>2020-12-31</td>\n",
              "      <td>158</td>\n",
              "      <td>4.583333</td>\n",
              "      <td>5.0</td>\n",
              "      <td>119.946697</td>\n",
              "      <td>27.466667</td>\n",
              "      <td>4</td>\n",
              "      <td>0</td>\n",
              "      <td>462</td>\n",
              "    </tr>\n",
              "  </tbody>\n",
              "</table>\n",
              "<p>138 rows × 9 columns</p>\n",
              "</div>"
            ],
            "text/plain": [
              "     Date_only  Num_of_chats  Rating_mean  ...  Morning  Evening  User ID\n",
              "0   2020-08-16            63     5.000000  ...        3        0      247\n",
              "1   2020-08-17            98     4.588235  ...        5        4      340\n",
              "2   2020-08-18            97     4.750000  ...        5        3      320\n",
              "3   2020-08-19           195     4.379310  ...        6        3      376\n",
              "4   2020-08-20           154     4.130435  ...        6        3      339\n",
              "..         ...           ...          ...  ...      ...      ...      ...\n",
              "133 2020-12-27           114     4.600000  ...        5        0      524\n",
              "134 2020-12-28           163     4.483871  ...        3        2      480\n",
              "135 2020-12-29           187     4.500000  ...        5        3      542\n",
              "136 2020-12-30           170     4.320000  ...        5        1      508\n",
              "137 2020-12-31           158     4.583333  ...        4        0      462\n",
              "\n",
              "[138 rows x 9 columns]"
            ]
          },
          "metadata": {
            "tags": []
          },
          "execution_count": 33
        }
      ]
    },
    {
      "cell_type": "code",
      "metadata": {
        "id": "rdin1BVsGgo2"
      },
      "source": [
        "final_by_date.columns = ['Date', 'Num_of_chats', 'Rating_mean', 'Rating_median', 'FRT_mean', \\\n",
        "                         'FRT_median', 'Morning_shifts', 'Evening_shifts', \\\n",
        "                         'Num_of_active']"
      ],
      "execution_count": 34,
      "outputs": []
    },
    {
      "cell_type": "code",
      "metadata": {
        "id": "mW_OMZGtHc7a",
        "colab": {
          "base_uri": "https://localhost:8080/",
          "height": 406
        },
        "outputId": "709ab9b5-f209-4072-8e0e-41c54330e83d"
      },
      "source": [
        "del final_by_date['Rating_median']\n",
        "final_by_date"
      ],
      "execution_count": 35,
      "outputs": [
        {
          "output_type": "execute_result",
          "data": {
            "text/html": [
              "<div>\n",
              "<style scoped>\n",
              "    .dataframe tbody tr th:only-of-type {\n",
              "        vertical-align: middle;\n",
              "    }\n",
              "\n",
              "    .dataframe tbody tr th {\n",
              "        vertical-align: top;\n",
              "    }\n",
              "\n",
              "    .dataframe thead th {\n",
              "        text-align: right;\n",
              "    }\n",
              "</style>\n",
              "<table border=\"1\" class=\"dataframe\">\n",
              "  <thead>\n",
              "    <tr style=\"text-align: right;\">\n",
              "      <th></th>\n",
              "      <th>Date</th>\n",
              "      <th>Num_of_chats</th>\n",
              "      <th>Rating_mean</th>\n",
              "      <th>FRT_mean</th>\n",
              "      <th>FRT_median</th>\n",
              "      <th>Morning_shifts</th>\n",
              "      <th>Evening_shifts</th>\n",
              "      <th>Num_of_active</th>\n",
              "    </tr>\n",
              "  </thead>\n",
              "  <tbody>\n",
              "    <tr>\n",
              "      <th>0</th>\n",
              "      <td>2020-08-16</td>\n",
              "      <td>63</td>\n",
              "      <td>5.000000</td>\n",
              "      <td>16.419811</td>\n",
              "      <td>10.333333</td>\n",
              "      <td>3</td>\n",
              "      <td>0</td>\n",
              "      <td>247</td>\n",
              "    </tr>\n",
              "    <tr>\n",
              "      <th>1</th>\n",
              "      <td>2020-08-17</td>\n",
              "      <td>98</td>\n",
              "      <td>4.588235</td>\n",
              "      <td>18.567671</td>\n",
              "      <td>7.333333</td>\n",
              "      <td>5</td>\n",
              "      <td>4</td>\n",
              "      <td>340</td>\n",
              "    </tr>\n",
              "    <tr>\n",
              "      <th>2</th>\n",
              "      <td>2020-08-18</td>\n",
              "      <td>97</td>\n",
              "      <td>4.750000</td>\n",
              "      <td>79.650192</td>\n",
              "      <td>9.033333</td>\n",
              "      <td>5</td>\n",
              "      <td>3</td>\n",
              "      <td>320</td>\n",
              "    </tr>\n",
              "    <tr>\n",
              "      <th>3</th>\n",
              "      <td>2020-08-19</td>\n",
              "      <td>195</td>\n",
              "      <td>4.379310</td>\n",
              "      <td>22.696391</td>\n",
              "      <td>9.633333</td>\n",
              "      <td>6</td>\n",
              "      <td>3</td>\n",
              "      <td>376</td>\n",
              "    </tr>\n",
              "    <tr>\n",
              "      <th>4</th>\n",
              "      <td>2020-08-20</td>\n",
              "      <td>154</td>\n",
              "      <td>4.130435</td>\n",
              "      <td>487.110267</td>\n",
              "      <td>7.550000</td>\n",
              "      <td>6</td>\n",
              "      <td>3</td>\n",
              "      <td>339</td>\n",
              "    </tr>\n",
              "    <tr>\n",
              "      <th>...</th>\n",
              "      <td>...</td>\n",
              "      <td>...</td>\n",
              "      <td>...</td>\n",
              "      <td>...</td>\n",
              "      <td>...</td>\n",
              "      <td>...</td>\n",
              "      <td>...</td>\n",
              "      <td>...</td>\n",
              "    </tr>\n",
              "    <tr>\n",
              "      <th>133</th>\n",
              "      <td>2020-12-27</td>\n",
              "      <td>114</td>\n",
              "      <td>4.600000</td>\n",
              "      <td>110.054167</td>\n",
              "      <td>10.833333</td>\n",
              "      <td>5</td>\n",
              "      <td>0</td>\n",
              "      <td>524</td>\n",
              "    </tr>\n",
              "    <tr>\n",
              "      <th>134</th>\n",
              "      <td>2020-12-28</td>\n",
              "      <td>163</td>\n",
              "      <td>4.483871</td>\n",
              "      <td>186.036483</td>\n",
              "      <td>9.933333</td>\n",
              "      <td>3</td>\n",
              "      <td>2</td>\n",
              "      <td>480</td>\n",
              "    </tr>\n",
              "    <tr>\n",
              "      <th>135</th>\n",
              "      <td>2020-12-29</td>\n",
              "      <td>187</td>\n",
              "      <td>4.500000</td>\n",
              "      <td>91.885600</td>\n",
              "      <td>9.083333</td>\n",
              "      <td>5</td>\n",
              "      <td>3</td>\n",
              "      <td>542</td>\n",
              "    </tr>\n",
              "    <tr>\n",
              "      <th>136</th>\n",
              "      <td>2020-12-30</td>\n",
              "      <td>170</td>\n",
              "      <td>4.320000</td>\n",
              "      <td>129.150751</td>\n",
              "      <td>7.716667</td>\n",
              "      <td>5</td>\n",
              "      <td>1</td>\n",
              "      <td>508</td>\n",
              "    </tr>\n",
              "    <tr>\n",
              "      <th>137</th>\n",
              "      <td>2020-12-31</td>\n",
              "      <td>158</td>\n",
              "      <td>4.583333</td>\n",
              "      <td>119.946697</td>\n",
              "      <td>27.466667</td>\n",
              "      <td>4</td>\n",
              "      <td>0</td>\n",
              "      <td>462</td>\n",
              "    </tr>\n",
              "  </tbody>\n",
              "</table>\n",
              "<p>138 rows × 8 columns</p>\n",
              "</div>"
            ],
            "text/plain": [
              "          Date  Num_of_chats  ...  Evening_shifts  Num_of_active\n",
              "0   2020-08-16            63  ...               0            247\n",
              "1   2020-08-17            98  ...               4            340\n",
              "2   2020-08-18            97  ...               3            320\n",
              "3   2020-08-19           195  ...               3            376\n",
              "4   2020-08-20           154  ...               3            339\n",
              "..         ...           ...  ...             ...            ...\n",
              "133 2020-12-27           114  ...               0            524\n",
              "134 2020-12-28           163  ...               2            480\n",
              "135 2020-12-29           187  ...               3            542\n",
              "136 2020-12-30           170  ...               1            508\n",
              "137 2020-12-31           158  ...               0            462\n",
              "\n",
              "[138 rows x 8 columns]"
            ]
          },
          "metadata": {
            "tags": []
          },
          "execution_count": 35
        }
      ]
    },
    {
      "cell_type": "code",
      "metadata": {
        "id": "3MxTpZPJyKff",
        "colab": {
          "base_uri": "https://localhost:8080/",
          "height": 406
        },
        "outputId": "59ac43cf-fec2-4e71-ee03-2c9aede51ad0"
      },
      "source": [
        "# Посчитаем общее количество агентов на смене по дням\n",
        "final_by_date['Num_of_agents'] = final_by_date['Morning_shifts'] + final_by_date['Evening_shifts']\n",
        "final_by_date"
      ],
      "execution_count": 36,
      "outputs": [
        {
          "output_type": "execute_result",
          "data": {
            "text/html": [
              "<div>\n",
              "<style scoped>\n",
              "    .dataframe tbody tr th:only-of-type {\n",
              "        vertical-align: middle;\n",
              "    }\n",
              "\n",
              "    .dataframe tbody tr th {\n",
              "        vertical-align: top;\n",
              "    }\n",
              "\n",
              "    .dataframe thead th {\n",
              "        text-align: right;\n",
              "    }\n",
              "</style>\n",
              "<table border=\"1\" class=\"dataframe\">\n",
              "  <thead>\n",
              "    <tr style=\"text-align: right;\">\n",
              "      <th></th>\n",
              "      <th>Date</th>\n",
              "      <th>Num_of_chats</th>\n",
              "      <th>Rating_mean</th>\n",
              "      <th>FRT_mean</th>\n",
              "      <th>FRT_median</th>\n",
              "      <th>Morning_shifts</th>\n",
              "      <th>Evening_shifts</th>\n",
              "      <th>Num_of_active</th>\n",
              "      <th>Num_of_agents</th>\n",
              "    </tr>\n",
              "  </thead>\n",
              "  <tbody>\n",
              "    <tr>\n",
              "      <th>0</th>\n",
              "      <td>2020-08-16</td>\n",
              "      <td>63</td>\n",
              "      <td>5.000000</td>\n",
              "      <td>16.419811</td>\n",
              "      <td>10.333333</td>\n",
              "      <td>3</td>\n",
              "      <td>0</td>\n",
              "      <td>247</td>\n",
              "      <td>3</td>\n",
              "    </tr>\n",
              "    <tr>\n",
              "      <th>1</th>\n",
              "      <td>2020-08-17</td>\n",
              "      <td>98</td>\n",
              "      <td>4.588235</td>\n",
              "      <td>18.567671</td>\n",
              "      <td>7.333333</td>\n",
              "      <td>5</td>\n",
              "      <td>4</td>\n",
              "      <td>340</td>\n",
              "      <td>9</td>\n",
              "    </tr>\n",
              "    <tr>\n",
              "      <th>2</th>\n",
              "      <td>2020-08-18</td>\n",
              "      <td>97</td>\n",
              "      <td>4.750000</td>\n",
              "      <td>79.650192</td>\n",
              "      <td>9.033333</td>\n",
              "      <td>5</td>\n",
              "      <td>3</td>\n",
              "      <td>320</td>\n",
              "      <td>8</td>\n",
              "    </tr>\n",
              "    <tr>\n",
              "      <th>3</th>\n",
              "      <td>2020-08-19</td>\n",
              "      <td>195</td>\n",
              "      <td>4.379310</td>\n",
              "      <td>22.696391</td>\n",
              "      <td>9.633333</td>\n",
              "      <td>6</td>\n",
              "      <td>3</td>\n",
              "      <td>376</td>\n",
              "      <td>9</td>\n",
              "    </tr>\n",
              "    <tr>\n",
              "      <th>4</th>\n",
              "      <td>2020-08-20</td>\n",
              "      <td>154</td>\n",
              "      <td>4.130435</td>\n",
              "      <td>487.110267</td>\n",
              "      <td>7.550000</td>\n",
              "      <td>6</td>\n",
              "      <td>3</td>\n",
              "      <td>339</td>\n",
              "      <td>9</td>\n",
              "    </tr>\n",
              "    <tr>\n",
              "      <th>...</th>\n",
              "      <td>...</td>\n",
              "      <td>...</td>\n",
              "      <td>...</td>\n",
              "      <td>...</td>\n",
              "      <td>...</td>\n",
              "      <td>...</td>\n",
              "      <td>...</td>\n",
              "      <td>...</td>\n",
              "      <td>...</td>\n",
              "    </tr>\n",
              "    <tr>\n",
              "      <th>133</th>\n",
              "      <td>2020-12-27</td>\n",
              "      <td>114</td>\n",
              "      <td>4.600000</td>\n",
              "      <td>110.054167</td>\n",
              "      <td>10.833333</td>\n",
              "      <td>5</td>\n",
              "      <td>0</td>\n",
              "      <td>524</td>\n",
              "      <td>5</td>\n",
              "    </tr>\n",
              "    <tr>\n",
              "      <th>134</th>\n",
              "      <td>2020-12-28</td>\n",
              "      <td>163</td>\n",
              "      <td>4.483871</td>\n",
              "      <td>186.036483</td>\n",
              "      <td>9.933333</td>\n",
              "      <td>3</td>\n",
              "      <td>2</td>\n",
              "      <td>480</td>\n",
              "      <td>5</td>\n",
              "    </tr>\n",
              "    <tr>\n",
              "      <th>135</th>\n",
              "      <td>2020-12-29</td>\n",
              "      <td>187</td>\n",
              "      <td>4.500000</td>\n",
              "      <td>91.885600</td>\n",
              "      <td>9.083333</td>\n",
              "      <td>5</td>\n",
              "      <td>3</td>\n",
              "      <td>542</td>\n",
              "      <td>8</td>\n",
              "    </tr>\n",
              "    <tr>\n",
              "      <th>136</th>\n",
              "      <td>2020-12-30</td>\n",
              "      <td>170</td>\n",
              "      <td>4.320000</td>\n",
              "      <td>129.150751</td>\n",
              "      <td>7.716667</td>\n",
              "      <td>5</td>\n",
              "      <td>1</td>\n",
              "      <td>508</td>\n",
              "      <td>6</td>\n",
              "    </tr>\n",
              "    <tr>\n",
              "      <th>137</th>\n",
              "      <td>2020-12-31</td>\n",
              "      <td>158</td>\n",
              "      <td>4.583333</td>\n",
              "      <td>119.946697</td>\n",
              "      <td>27.466667</td>\n",
              "      <td>4</td>\n",
              "      <td>0</td>\n",
              "      <td>462</td>\n",
              "      <td>4</td>\n",
              "    </tr>\n",
              "  </tbody>\n",
              "</table>\n",
              "<p>138 rows × 9 columns</p>\n",
              "</div>"
            ],
            "text/plain": [
              "          Date  Num_of_chats  ...  Num_of_active  Num_of_agents\n",
              "0   2020-08-16            63  ...            247              3\n",
              "1   2020-08-17            98  ...            340              9\n",
              "2   2020-08-18            97  ...            320              8\n",
              "3   2020-08-19           195  ...            376              9\n",
              "4   2020-08-20           154  ...            339              9\n",
              "..         ...           ...  ...            ...            ...\n",
              "133 2020-12-27           114  ...            524              5\n",
              "134 2020-12-28           163  ...            480              5\n",
              "135 2020-12-29           187  ...            542              8\n",
              "136 2020-12-30           170  ...            508              6\n",
              "137 2020-12-31           158  ...            462              4\n",
              "\n",
              "[138 rows x 9 columns]"
            ]
          },
          "metadata": {
            "tags": []
          },
          "execution_count": 36
        }
      ]
    },
    {
      "cell_type": "code",
      "metadata": {
        "colab": {
          "base_uri": "https://localhost:8080/",
          "height": 287
        },
        "id": "x7Qx99h63jIe",
        "outputId": "1f604b17-7707-496e-9734-194798f68bc6"
      },
      "source": [
        "final_by_date.describe()"
      ],
      "execution_count": 37,
      "outputs": [
        {
          "output_type": "execute_result",
          "data": {
            "text/html": [
              "<div>\n",
              "<style scoped>\n",
              "    .dataframe tbody tr th:only-of-type {\n",
              "        vertical-align: middle;\n",
              "    }\n",
              "\n",
              "    .dataframe tbody tr th {\n",
              "        vertical-align: top;\n",
              "    }\n",
              "\n",
              "    .dataframe thead th {\n",
              "        text-align: right;\n",
              "    }\n",
              "</style>\n",
              "<table border=\"1\" class=\"dataframe\">\n",
              "  <thead>\n",
              "    <tr style=\"text-align: right;\">\n",
              "      <th></th>\n",
              "      <th>Num_of_chats</th>\n",
              "      <th>Rating_mean</th>\n",
              "      <th>FRT_mean</th>\n",
              "      <th>FRT_median</th>\n",
              "      <th>Morning_shifts</th>\n",
              "      <th>Evening_shifts</th>\n",
              "      <th>Num_of_active</th>\n",
              "      <th>Num_of_agents</th>\n",
              "    </tr>\n",
              "  </thead>\n",
              "  <tbody>\n",
              "    <tr>\n",
              "      <th>count</th>\n",
              "      <td>138.000000</td>\n",
              "      <td>138.000000</td>\n",
              "      <td>138.000000</td>\n",
              "      <td>138.000000</td>\n",
              "      <td>138.000000</td>\n",
              "      <td>138.000000</td>\n",
              "      <td>138.000000</td>\n",
              "      <td>138.000000</td>\n",
              "    </tr>\n",
              "    <tr>\n",
              "      <th>mean</th>\n",
              "      <td>110.847826</td>\n",
              "      <td>4.438351</td>\n",
              "      <td>55.997337</td>\n",
              "      <td>8.880797</td>\n",
              "      <td>3.869565</td>\n",
              "      <td>2.181159</td>\n",
              "      <td>349.326087</td>\n",
              "      <td>6.050725</td>\n",
              "    </tr>\n",
              "    <tr>\n",
              "      <th>std</th>\n",
              "      <td>40.829341</td>\n",
              "      <td>0.270191</td>\n",
              "      <td>91.924107</td>\n",
              "      <td>4.099788</td>\n",
              "      <td>1.132313</td>\n",
              "      <td>1.515061</td>\n",
              "      <td>79.380922</td>\n",
              "      <td>1.865251</td>\n",
              "    </tr>\n",
              "    <tr>\n",
              "      <th>min</th>\n",
              "      <td>48.000000</td>\n",
              "      <td>3.416667</td>\n",
              "      <td>6.514912</td>\n",
              "      <td>3.258333</td>\n",
              "      <td>0.000000</td>\n",
              "      <td>0.000000</td>\n",
              "      <td>210.000000</td>\n",
              "      <td>0.000000</td>\n",
              "    </tr>\n",
              "    <tr>\n",
              "      <th>25%</th>\n",
              "      <td>81.250000</td>\n",
              "      <td>4.300000</td>\n",
              "      <td>15.366636</td>\n",
              "      <td>6.004167</td>\n",
              "      <td>3.000000</td>\n",
              "      <td>0.000000</td>\n",
              "      <td>303.250000</td>\n",
              "      <td>5.000000</td>\n",
              "    </tr>\n",
              "    <tr>\n",
              "      <th>50%</th>\n",
              "      <td>100.000000</td>\n",
              "      <td>4.468627</td>\n",
              "      <td>24.013996</td>\n",
              "      <td>7.687500</td>\n",
              "      <td>4.000000</td>\n",
              "      <td>3.000000</td>\n",
              "      <td>336.000000</td>\n",
              "      <td>6.000000</td>\n",
              "    </tr>\n",
              "    <tr>\n",
              "      <th>75%</th>\n",
              "      <td>134.750000</td>\n",
              "      <td>4.622596</td>\n",
              "      <td>65.244380</td>\n",
              "      <td>10.466667</td>\n",
              "      <td>5.000000</td>\n",
              "      <td>3.000000</td>\n",
              "      <td>391.750000</td>\n",
              "      <td>7.000000</td>\n",
              "    </tr>\n",
              "    <tr>\n",
              "      <th>max</th>\n",
              "      <td>243.000000</td>\n",
              "      <td>5.000000</td>\n",
              "      <td>768.018889</td>\n",
              "      <td>27.466667</td>\n",
              "      <td>7.000000</td>\n",
              "      <td>6.000000</td>\n",
              "      <td>607.000000</td>\n",
              "      <td>10.000000</td>\n",
              "    </tr>\n",
              "  </tbody>\n",
              "</table>\n",
              "</div>"
            ],
            "text/plain": [
              "       Num_of_chats  Rating_mean  ...  Num_of_active  Num_of_agents\n",
              "count    138.000000   138.000000  ...     138.000000     138.000000\n",
              "mean     110.847826     4.438351  ...     349.326087       6.050725\n",
              "std       40.829341     0.270191  ...      79.380922       1.865251\n",
              "min       48.000000     3.416667  ...     210.000000       0.000000\n",
              "25%       81.250000     4.300000  ...     303.250000       5.000000\n",
              "50%      100.000000     4.468627  ...     336.000000       6.000000\n",
              "75%      134.750000     4.622596  ...     391.750000       7.000000\n",
              "max      243.000000     5.000000  ...     607.000000      10.000000\n",
              "\n",
              "[8 rows x 8 columns]"
            ]
          },
          "metadata": {
            "tags": []
          },
          "execution_count": 37
        }
      ]
    },
    {
      "cell_type": "code",
      "metadata": {
        "colab": {
          "base_uri": "https://localhost:8080/",
          "height": 433
        },
        "id": "MxcQqNEly9sI",
        "outputId": "9015b1d6-c824-4982-8f70-ed3bf9938714"
      },
      "source": [
        "# Посмотрим на тепловую карту корреляции\n",
        "plt.figure(figsize = (16,7))\n",
        "sns.heatmap(final_by_date.corr(),  cmap = 'viridis',annot = True);"
      ],
      "execution_count": 38,
      "outputs": [
        {
          "output_type": "display_data",
          "data": {
            "image/png": "[encoded data removed]",
            "text/plain": [
              "<Figure size 1152x504 with 2 Axes>"
            ]
          },
          "metadata": {
            "tags": [],
            "needs_background": "light"
          }
        }
      ]
    },
    {
      "cell_type": "markdown",
      "metadata": {
        "id": "LbvUFyFg0_ZV"
      },
      "source": [
        "## Модель линейной регрессии для предсказания количества диалогов в зависимости от количества активных клиентов"
      ]
    },
    {
      "cell_type": "code",
      "metadata": {
        "id": "h1YfrPvgrvH4",
        "colab": {
          "base_uri": "https://localhost:8080/",
          "height": 457
        },
        "outputId": "43b56afd-ca14-423b-96e3-8d4c331d1bfd"
      },
      "source": [
        "lr = perform_linear_regression(final_by_date['Num_of_active'].values, final_by_date['Num_of_chats'].values, 'Num_of_active', 'Num_of_chats')\n",
        "print('Ожидаемое количество входящих обращений при количестве активных клиентов 30000 в месяц: ', np.round(lr.predict(np.array([1000]).reshape(1, -1))*30))"
      ],
      "execution_count": 39,
      "outputs": [
        {
          "output_type": "stream",
          "text": [
            "Средняя квадратичная ошибка: 392.9051923882777\n",
            "Средняя абсолютная ошибка: 15.003464248888731\n"
          ],
          "name": "stdout"
        },
        {
          "output_type": "display_data",
          "data": {
            "image/png": "[encoded data removed]",
            "text/plain": [
              "<Figure size 720x432 with 1 Axes>"
            ]
          },
          "metadata": {
            "tags": [],
            "needs_background": "light"
          }
        },
        {
          "output_type": "stream",
          "text": [
            "Ожидаемое количество входящих обращений при количестве активных клиентов 30000 в месяц:  [[11801.]]\n"
          ],
          "name": "stdout"
        }
      ]
    },
    {
      "cell_type": "markdown",
      "metadata": {
        "id": "hqEaLkjm29xY"
      },
      "source": [
        "## Модель линейной регрессии для предсказания зависимости медианы времени первого ответа клиентам от количества агентов на смене"
      ]
    },
    {
      "cell_type": "code",
      "metadata": {
        "id": "bbXKPardur2v",
        "colab": {
          "base_uri": "https://localhost:8080/",
          "height": 457
        },
        "outputId": "29db3940-fe13-4c20-80ee-e3e66f612842"
      },
      "source": [
        "lr = perform_linear_regression(final_by_date['Num_of_agents'].values, final_by_date['FRT_median'].values, 'Num_of_agents', 'FRT_median')\n",
        "print('Ожидаемое медианное время первого ответа клиентам если на смене 9 агентов поддержки', np.round(lr.predict(np.array([9]).reshape(1, -1))))"
      ],
      "execution_count": 40,
      "outputs": [
        {
          "output_type": "stream",
          "text": [
            "Средняя квадратичная ошибка: 16.123999899270004\n",
            "Средняя абсолютная ошибка: 3.1655139994943755\n"
          ],
          "name": "stdout"
        },
        {
          "output_type": "display_data",
          "data": {
            "image/png": "[encoded data removed]",
            "text/plain": [
              "<Figure size 720x432 with 1 Axes>"
            ]
          },
          "metadata": {
            "tags": [],
            "needs_background": "light"
          }
        },
        {
          "output_type": "stream",
          "text": [
            "Ожидаемое медианное время первого ответа клиентам если на смене 9 агентов поддержки [[7.]]\n"
          ],
          "name": "stdout"
        }
      ]
    },
    {
      "cell_type": "markdown",
      "metadata": {
        "id": "LBIDOAYM5l8q"
      },
      "source": [
        "## Создадим модель для предсказания медианного времени ответа при заданном количестве активных клиентов"
      ]
    },
    {
      "cell_type": "code",
      "metadata": {
        "id": "Pl6ZYDwE0MA8"
      },
      "source": [
        "# посмотрим на среднюю квадратичную ошибку и среднюю абсолютную ошибку при различных сочетаниях аргументов:\n",
        "def regression(predict_list, predict_goal):\n",
        "  X = final_by_date[predict_list]\n",
        "  Y = final_by_date[predict_goal]\n",
        "  X_train, X_test, Y_train, Y_test = train_test_split(X, Y, test_size = 0.2, random_state = 15)\n",
        "  linear_regressor = LinearRegression()  # create an instance of the class\n",
        "  linear_regressor.fit(X_train, Y_train)  # perform linear regression\n",
        "  Y_pred = linear_regressor.predict(X_test)  # make predictions\n",
        "\n",
        "  print(\"Предсказываем \" + predict_goal + \" используя \" + str(predict_list))\n",
        "  print('Средняя квадратичная ошибка:', mse(Y_test, Y_pred))\n",
        "  print('Средняя абсолютная ошибка:', mae(Y_test, Y_pred), \"\\n\")\n",
        "\n",
        "  return linear_regressor"
      ],
      "execution_count": 62,
      "outputs": []
    },
    {
      "cell_type": "code",
      "metadata": {
        "id": "7DBi8-3D1DFD",
        "colab": {
          "base_uri": "https://localhost:8080/"
        },
        "outputId": "8dd4e61e-414d-46ec-d295-78437e1f2e9c"
      },
      "source": [
        "regression(['Num_of_active', 'Num_of_agents', 'Num_of_chats'], 'FRT_median')\n",
        "regression(['Num_of_agents', 'Num_of_chats'], 'FRT_median')\n",
        "regression(['Num_of_active', 'Num_of_agents'], 'FRT_median')\n",
        "regression(['Num_of_active', 'Num_of_chats'], 'FRT_median');"
      ],
      "execution_count": 42,
      "outputs": [
        {
          "output_type": "stream",
          "text": [
            "Предсказываем FRT_median используя ['Num_of_active', 'Num_of_agents', 'Num_of_chats']\n",
            "Средняя квадратичная ошибка: 5.919235666809944\n",
            "Средняя абсолютная ошибка: 1.9953614407182965 \n",
            "\n",
            "Предсказываем FRT_median используя ['Num_of_agents', 'Num_of_chats']\n",
            "Средняя квадратичная ошибка: 6.177002949049009\n",
            "Средняя абсолютная ошибка: 2.046258633998455 \n",
            "\n",
            "Предсказываем FRT_median используя ['Num_of_active', 'Num_of_agents']\n",
            "Средняя квадратичная ошибка: 6.155947897440032\n",
            "Средняя абсолютная ошибка: 2.0119901055016705 \n",
            "\n",
            "Предсказываем FRT_median используя ['Num_of_active', 'Num_of_chats']\n",
            "Средняя квадратичная ошибка: 8.876741698624436\n",
            "Средняя абсолютная ошибка: 2.325478865515986 \n",
            "\n"
          ],
          "name": "stdout"
        }
      ]
    },
    {
      "cell_type": "markdown",
      "metadata": {
        "id": "-9_MErgF8jeW"
      },
      "source": [
        "Тут видим, что наименьшая ошибка на выходе у модели для которой мы используем показатели ['Num_of_active', 'Num_of_agents', 'Num_of_chats'], но так как Num_of_active и Num_of_chats сильно кореллируют друг с другом, то лучше не использовать их вместе для предсказания третьего параметра. "
      ]
    },
    {
      "cell_type": "markdown",
      "metadata": {
        "id": "u71gShh6AJtN"
      },
      "source": [
        "## Модель DecisionTreeRegressor для предсказания медианы времени первого ответа при заданном количестве активных клиентов и агентов на смене в день"
      ]
    },
    {
      "cell_type": "code",
      "metadata": {
        "colab": {
          "base_uri": "https://localhost:8080/"
        },
        "id": "1DhDsH2R8p82",
        "outputId": "d390dd98-5fd6-4611-a361-8ec1a0c25804"
      },
      "source": [
        "# Чтобы избежать переобучение модели, определим оптимальную глубину дерева (max_depth). Спойлер: max_depth = 3\n",
        "param_grid = {'max_depth': [3, 5, 7, 10]}\n",
        "dr = DecisionTreeRegressor()\n",
        "X = final_by_date[['Num_of_active', 'Num_of_agents']]\n",
        "Y = final_by_date['FRT_median']\n",
        "sh = GridSearchCV(dr, param_grid).fit(X, Y)\n",
        "sh.best_estimator_"
      ],
      "execution_count": 56,
      "outputs": [
        {
          "output_type": "execute_result",
          "data": {
            "text/plain": [
              "DecisionTreeRegressor(ccp_alpha=0.0, criterion='mse', max_depth=3,\n",
              "                      max_features=None, max_leaf_nodes=None,\n",
              "                      min_impurity_decrease=0.0, min_impurity_split=None,\n",
              "                      min_samples_leaf=1, min_samples_split=2,\n",
              "                      min_weight_fraction_leaf=0.0, presort='deprecated',\n",
              "                      random_state=None, splitter='best')"
            ]
          },
          "metadata": {
            "tags": []
          },
          "execution_count": 56
        }
      ]
    },
    {
      "cell_type": "code",
      "metadata": {
        "id": "ulrNneHS3rKV",
        "colab": {
          "base_uri": "https://localhost:8080/"
        },
        "outputId": "e7390eb2-6d9e-4c07-847a-8646d1590ecb"
      },
      "source": [
        "X = final_by_date[['Num_of_active', 'Num_of_agents']]\n",
        "Y = final_by_date['FRT_median']\n",
        "X_train, X_test, Y_train, Y_test = train_test_split(X, Y, test_size = 0.2, random_state=15)\n",
        "dr = DecisionTreeRegressor(max_depth=3)\n",
        "dr.fit(X_train, Y_train)\n",
        "Y_pred = dr.predict(X_test)  # make predictions\n",
        "\n",
        "print('Средняя квадратичная ошибка:', mse(Y_test, Y_pred))\n",
        "print('Средняя ошибка:', mae(Y_test, Y_pred))\n",
        "\n",
        "print('Ожидаемое медианное время первого ответа клиенту (минут): ', np.round(dr.predict(np.array([1000, 9]).reshape(1, -1)), decimals=2))"
      ],
      "execution_count": 84,
      "outputs": [
        {
          "output_type": "stream",
          "text": [
            "Средняя квадратичная ошибка: 8.682450612427113\n",
            "Средняя ошибка: 2.323472789115647\n",
            "Ожидаемое медианное время первого ответа клиенту (минут):  [7.45]\n"
          ],
          "name": "stdout"
        }
      ]
    },
    {
      "cell_type": "markdown",
      "metadata": {
        "id": "w4P4ZKaDEdNK"
      },
      "source": [
        "## Модель RandomForestRegressor для предсказания медианы времени первого ответа при заданном количестве активных клиентов и агентов на смене в день"
      ]
    },
    {
      "cell_type": "code",
      "metadata": {
        "colab": {
          "base_uri": "https://localhost:8080/"
        },
        "id": "6hbg-frw_Pa2",
        "outputId": "efb7cff0-b33e-4bf9-f657-5fdcca8ea337"
      },
      "source": [
        "#определим оптимальную глубину дерева (max_depth)\n",
        "param_grid = {'max_depth': [3, 5, 7, 10]}\n",
        "rf_reg = RandomForestRegressor()\n",
        "X = final_by_date[['Num_of_active', 'Num_of_agents']]\n",
        "Y = final_by_date['FRT_median']\n",
        "sh = GridSearchCV(rf_reg, param_grid).fit(X, Y)\n",
        "sh.best_estimator_"
      ],
      "execution_count": 86,
      "outputs": [
        {
          "output_type": "execute_result",
          "data": {
            "text/plain": [
              "RandomForestRegressor(bootstrap=True, ccp_alpha=0.0, criterion='mse',\n",
              "                      max_depth=3, max_features='auto', max_leaf_nodes=None,\n",
              "                      max_samples=None, min_impurity_decrease=0.0,\n",
              "                      min_impurity_split=None, min_samples_leaf=1,\n",
              "                      min_samples_split=2, min_weight_fraction_leaf=0.0,\n",
              "                      n_estimators=100, n_jobs=None, oob_score=False,\n",
              "                      random_state=None, verbose=0, warm_start=False)"
            ]
          },
          "metadata": {
            "tags": []
          },
          "execution_count": 86
        }
      ]
    },
    {
      "cell_type": "code",
      "metadata": {
        "colab": {
          "base_uri": "https://localhost:8080/"
        },
        "id": "JYkbh1c0-5tF",
        "outputId": "9538ce6c-71f8-463d-cf22-e89e0c39eb60"
      },
      "source": [
        "X = final_by_date[['Num_of_active', 'Num_of_agents']]\n",
        "Y = final_by_date['FRT_median']\n",
        "X_train, X_test, Y_train, Y_test = train_test_split(X, Y, test_size = 0.2, random_state=15)\n",
        "rf_reg = RandomForestRegressor(max_depth = 3)\n",
        "rf_reg.fit(X_train, Y_train)\n",
        "Y_pred = rf_reg.predict(X_test)  # make predictions\n",
        "\n",
        "print('Средняя квадратичная ошибка:', mse(Y_test, Y_pred))\n",
        "print('Средняя ошибка:', mae(Y_test, Y_pred))\n",
        "rf_reg.predict(np.array([1000, 9]).reshape(1, -1))"
      ],
      "execution_count": 92,
      "outputs": [
        {
          "output_type": "stream",
          "text": [
            "Средняя квадратичная ошибка: 6.393794860702454\n",
            "Средняя ошибка: 2.0210642291071164\n"
          ],
          "name": "stdout"
        },
        {
          "output_type": "execute_result",
          "data": {
            "text/plain": [
              "array([10.52601611])"
            ]
          },
          "metadata": {
            "tags": []
          },
          "execution_count": 92
        }
      ]
    },
    {
      "cell_type": "markdown",
      "metadata": {
        "id": "n0AJOyIdFAsb"
      },
      "source": [
        "## Модель линейной регрессии для предсказания медианы времени первого ответа при заданном количестве активных клиентов и агентов на смене в день"
      ]
    },
    {
      "cell_type": "code",
      "metadata": {
        "id": "LD8cMHG91R3X",
        "colab": {
          "base_uri": "https://localhost:8080/"
        },
        "outputId": "0f8a2023-0200-414a-843a-297aea987b1b"
      },
      "source": [
        "lr = regression(['Num_of_active', 'Num_of_agents'], 'FRT_median')\n",
        "print('Ожидаемое медианное время первого ответа клиенту (минут): ', np.round(lr.predict(np.array([1000, 9]).reshape(1, -1)), decimals=2))"
      ],
      "execution_count": 100,
      "outputs": [
        {
          "output_type": "stream",
          "text": [
            "Предсказываем FRT_median используя ['Num_of_active', 'Num_of_agents']\n",
            "Средняя квадратичная ошибка: 6.155947897440032\n",
            "Средняя абсолютная ошибка: 2.0119901055016705 \n",
            "\n",
            "Ожидаемое медианное время первого ответа клиенту (минут):  [19.67]\n"
          ],
          "name": "stdout"
        }
      ]
    },
    {
      "cell_type": "markdown",
      "metadata": {
        "id": "tPkPWjKAF_fS"
      },
      "source": [
        "## Вывод:\n",
        "Исходя из проведенного исследования, можно сделать вывод, что модель линейной регрессии lr является самой точной из изученных в проекте."
      ]
    },
    {
      "cell_type": "code",
      "metadata": {
        "id": "N00-hk4u-gT7"
      },
      "source": [
        ""
      ],
      "execution_count": 49,
      "outputs": []
    }
  ]
}